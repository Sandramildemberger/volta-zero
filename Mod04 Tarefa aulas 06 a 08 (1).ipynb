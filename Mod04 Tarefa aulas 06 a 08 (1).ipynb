{
 "cells": [
  {
   "cell_type": "markdown",
   "metadata": {},
   "source": [
    "# Tarefa 03\n",
    "\n",
    "- Leia os enunciados com atenção\n",
    "- Saiba que pode haver mais de uma resposta correta\n",
    "- Insira novas células de código sempre que achar necessário\n",
    "- Em caso de dúvidas, procure os Tutores\n",
    "- Divirta-se :)"
   ]
  },
  {
   "cell_type": "markdown",
   "metadata": {},
   "source": [
    "####  1) Lendo de APIs\n",
    "Vimos em aula como carregar dados públicos do governo através de um API (*Application Programming Interface*). No exemplo de aula, baixamos os dados de pedidos de verificação de limites (PVL) realizados por estados, e selecionamos apenas aqueles referentes ao estado de São Paulo.\n",
    "\n",
    "1. Repita os mesmos passos feitos em aula, mas selecione os PVLs realizados por municípios no estado do Rio de Janeiro.\n",
    "2. Quais são os três *status* das solicitações mais frequentes na base? Quais são suas frequências?\n",
    "3. Construa uma nova variável que contenha o ano do **status**. Observe que ```data_status``` vem como tipo *object* no **DataFrame**. Dica: você pode usar o método ```.str``` para transformar o tipo da variável em string, em seguida um método como [**slice()**](https://pandas.pydata.org/docs/reference/api/pandas.Series.str.slice.html) ou [**split()**](https://pandas.pydata.org/pandas-docs/stable/reference/api/pandas.Series.str.split.html).\n",
    "4. Indique a frequência de cada ano do campo construído no item (3)."
   ]
  },
  {
   "cell_type": "code",
   "execution_count": 29,
   "metadata": {},
   "outputs": [],
   "source": [
    "import pandas as pd\n",
    "import requests\n",
    "\n",
    "url = \"https://apidatalake.tesouro.gov.br/ords/sadipem/tt/pvl\"\n",
    "response = requests.get(url)\n",
    "data = response.json()\n",
    "\n"
   ]
  },
  {
   "cell_type": "code",
   "execution_count": 31,
   "metadata": {},
   "outputs": [],
   "source": [
    "# Convertendo os dados em um DataFrame\n",
    "df = pd.DataFrame(data['items'])"
   ]
  },
  {
   "cell_type": "code",
   "execution_count": 34,
   "metadata": {},
   "outputs": [
    {
     "name": "stdout",
     "output_type": "stream",
     "text": [
      "Index(['id_pleito', 'tipo_interessado', 'interessado', 'cod_ibge', 'uf',\n",
      "       'num_pvl', 'status', 'num_processo', 'data_protocolo', 'tipo_operacao',\n",
      "       'finalidade', 'tipo_credor', 'credor', 'moeda', 'valor',\n",
      "       'pvl_assoc_divida', 'pvl_contradado_credor', 'data_status'],\n",
      "      dtype='object')\n"
     ]
    }
   ],
   "source": [
    "# Verificando as colunas\n",
    "print(df.columns)"
   ]
  },
  {
   "cell_type": "code",
   "execution_count": 40,
   "metadata": {},
   "outputs": [],
   "source": [
    "# Passo 2: Filtrar os dados para incluir apenas os PVLs realizados por municípios no estado do Rio de Janeiro\n",
    "df_rj_municipios = df[(df['tipo_interessado'] == 'Município') & (df['uf'] == 'RJ')]\n"
   ]
  },
  {
   "cell_type": "code",
   "execution_count": 42,
   "metadata": {},
   "outputs": [
    {
     "name": "stdout",
     "output_type": "stream",
     "text": [
      "Os três status das solicitações mais frequentes e suas frequências:\n",
      "status\n",
      "Deferido                          28\n",
      "Arquivado                         16\n",
      "Arquivado por decurso de prazo     9\n",
      "Name: count, dtype: int64\n"
     ]
    }
   ],
   "source": [
    "# Passo 3: Encontrar os três status das solicitações mais frequentes e suas frequências\n",
    "status_frequencia = df_rj_municipios['status'].value_counts().head(3)\n",
    "print(\"Os três status das solicitações mais frequentes e suas frequências:\")\n",
    "print(status_frequencia)"
   ]
  },
  {
   "cell_type": "code",
   "execution_count": 48,
   "metadata": {},
   "outputs": [],
   "source": [
    "# Passo 4: Construir uma nova variável que contenha o ano do status\n",
    "df_rj_municipios.loc[:, 'ano_status'] = df_rj_municipios['data_status'].str.slice(0, 4)"
   ]
  },
  {
   "cell_type": "code",
   "execution_count": 50,
   "metadata": {},
   "outputs": [
    {
     "name": "stdout",
     "output_type": "stream",
     "text": [
      "\n",
      "Frequência de cada ano do campo 'ano_status':\n",
      "ano_status\n",
      "15/0    5\n",
      "29/0    5\n",
      "13/0    3\n",
      "01/1    3\n",
      "10/0    3\n",
      "22/0    3\n",
      "26/0    3\n",
      "25/0    2\n",
      "27/0    2\n",
      "06/0    2\n",
      "01/0    2\n",
      "23/0    2\n",
      "18/0    2\n",
      "19/1    2\n",
      "30/1    2\n",
      "30/0    2\n",
      "31/0    2\n",
      "22/1    1\n",
      "08/1    1\n",
      "29/1    1\n",
      "12/0    1\n",
      "13/1    1\n",
      "23/1    1\n",
      "11/1    1\n",
      "04/1    1\n",
      "17/1    1\n",
      "09/0    1\n",
      "02/0    1\n",
      "21/1    1\n",
      "21/0    1\n",
      "04/0    1\n",
      "18/1    1\n",
      "31/1    1\n",
      "11/0    1\n",
      "10/1    1\n",
      "20/0    1\n",
      "17/0    1\n",
      "03/0    1\n",
      "07/0    1\n",
      "Name: count, dtype: int64\n"
     ]
    }
   ],
   "source": [
    "# Passo 5: Indicar a frequência de cada ano do campo construído\n",
    "ano_frequencia = df_rj_municipios['ano_status'].value_counts()\n",
    "print(\"\\nFrequência de cada ano do campo 'ano_status':\")\n",
    "print(ano_frequencia)"
   ]
  },
  {
   "cell_type": "markdown",
   "metadata": {},
   "source": [
    "####  2) Melhorando a interação com o API\n",
    "Observe dois URLs de consultas diferentes, por exemplo o URL utilizado em aula, e o URL feito no exercício anterior. Compare-os e observe as diferenças.\n",
    "\n",
    "1. Faça uma função em Python que recebe como argumento o UF da consulta e o tipo de interessado (```'Estado'```ou ```Município```), e que devolve os dados da consulta no formato *DataFrame*.\n",
    "2. Quantas solicitações para o Estado podem ser consultadas para Minas Gerais com *status* em 'Arquivado por decurso de prazo' estão registradas?\n",
    "3. Qual é o município da Bahia com mais solicitações deferidas?\n",
    "4. Salve um arquivo .csv com os dados de solicitações da Bahia, com interessado = 'Estado'"
   ]
  },
  {
   "cell_type": "code",
   "execution_count": 52,
   "metadata": {},
   "outputs": [],
   "source": [
    "import pandas as pd\n",
    "import requests\n",
    "\n",
    "def consulta_pvl(uf, tipo_interessado):\n",
    "    url = \"https://apidatalake.tesouro.gov.br/ords/sadipem/tt/pvl\"\n",
    "    response = requests.get(url)\n",
    "    data = response.json()\n",
    "    df = pd.DataFrame(data['items'])\n",
    "    \n",
    "    # Filtrar os dados com base nos parâmetros fornecidos\n",
    "    df_filtrado = df[(df['uf'] == uf) & (df['tipo_interessado'] == tipo_interessado)]\n",
    "    \n",
    "    return df_filtrado\n"
   ]
  },
  {
   "cell_type": "code",
   "execution_count": 54,
   "metadata": {},
   "outputs": [
    {
     "name": "stdout",
     "output_type": "stream",
     "text": [
      "     id_pleito tipo_interessado          interessado  cod_ibge  uf  \\\n",
      "110      10108        Município  São Pedro da Aldeia   3305208  RJ   \n",
      "190       8590        Município         Belford Roxo   3300456  RJ   \n",
      "250      66729        Município       Miguel Pereira   3302908  RJ   \n",
      "293      65489        Município          Nova Iguaçu   3303500  RJ   \n",
      "418      13638        Município          São Gonçalo   3304904  RJ   \n",
      "\n",
      "                  num_pvl                          status  \\\n",
      "110                  None                       Arquivado   \n",
      "190                  None  Arquivado por decurso de prazo   \n",
      "250  PVL02.003701/2023-85               Deferido (PVL-IF)   \n",
      "293  PVL02.002202/2023-71                        Deferido   \n",
      "418                  None                       Arquivado   \n",
      "\n",
      "             num_processo        data_protocolo                tipo_operacao  \\\n",
      "110  17944.001122/2008-21  2009-03-06T03:00:00Z  Operação contratual interna   \n",
      "190  17944.000804/2011-12  2014-10-20T02:00:00Z  Operação contratual interna   \n",
      "250                  None                  None  Operação contratual interna   \n",
      "293  17944.102806/2023-89  2023-07-26T19:45:35Z  Operação contratual interna   \n",
      "418  19405.000041/2006-75  2008-03-03T03:00:00Z  Operação contratual interna   \n",
      "\n",
      "              finalidade                      tipo_credor  \\\n",
      "110  Caminho da Escola 2  Instituição Financeira Nacional   \n",
      "190                RELUZ              Empresa Não Estatal   \n",
      "250       Multissetorial  Instituição Financeira Nacional   \n",
      "293       Infraestrutura  Instituição Financeira Nacional   \n",
      "418                PNAFM  Instituição Financeira Nacional   \n",
      "\n",
      "                                             credor moeda         valor  \\\n",
      "110                             Banco do Brasil S/A  Real  5.989000e+05   \n",
      "190            Light - Serviços de Eletricidade S/A  Real  1.014417e+07   \n",
      "250  Agência de Fomento do Estado do Rio de Janeiro  Real  8.000000e+06   \n",
      "293                         Caixa Econômica Federal  Real  1.200000e+08   \n",
      "418                         Caixa Econômica Federal  Real  1.766667e+07   \n",
      "\n",
      "     pvl_assoc_divida  pvl_contradado_credor data_status  \n",
      "110                 0                      0  13/03/2009  \n",
      "190                 0                      0  13/02/2015  \n",
      "250                 0                      1  31/10/2023  \n",
      "293                 0                      0  31/07/2023  \n",
      "418                 0                      0  15/09/2008  \n"
     ]
    }
   ],
   "source": [
    "# Testando a função com o UF 'RJ' e tipo de interessado 'Município'\n",
    "df_rj_municipios = consulta_pvl('RJ', 'Município')\n",
    "print(df_rj_municipios.head())"
   ]
  },
  {
   "cell_type": "code",
   "execution_count": 56,
   "metadata": {},
   "outputs": [
    {
     "name": "stdout",
     "output_type": "stream",
     "text": [
      "Quantidade de solicitações para Minas Gerais com status 'Arquivado por decurso de prazo': 0\n"
     ]
    }
   ],
   "source": [
    "#1) Consultar Solicitações para Minas Gerais com Status \"Arquivado por Decurso de Prazo\n",
    "df_mg_arquivado = consulta_pvl('MG', 'Estado')\n",
    "df_mg_arquivado_prazo = df_mg_arquivado[df_mg_arquivado['status'] == 'Arquivado por decurso de prazo']\n",
    "quantidade_arquivado_prazo = len(df_mg_arquivado_prazo)\n",
    "print(f\"Quantidade de solicitações para Minas Gerais com status 'Arquivado por decurso de prazo': {quantidade_arquivado_prazo}\")\n"
   ]
  },
  {
   "cell_type": "code",
   "execution_count": 58,
   "metadata": {},
   "outputs": [
    {
     "name": "stdout",
     "output_type": "stream",
     "text": [
      "Município da Bahia com mais solicitações deferidas: Camaçari (3 solicitações)\n"
     ]
    }
   ],
   "source": [
    "# 2)  Identificar o Município da Bahia com Mais Solicitações Deferidas\n",
    "df_ba_municipios = consulta_pvl('BA', 'Município')\n",
    "df_ba_deferidas = df_ba_municipios[df_ba_municipios['status'] == 'Deferido']\n",
    "municipio_com_mais_deferidas = df_ba_deferidas['interessado'].value_counts().idxmax()\n",
    "quantidade_mais_deferidas = df_ba_deferidas['interessado'].value_counts().max()\n",
    "print(f\"Município da Bahia com mais solicitações deferidas: {municipio_com_mais_deferidas} ({quantidade_mais_deferidas} solicitações)\")\n"
   ]
  },
  {
   "cell_type": "code",
   "execution_count": 60,
   "metadata": {},
   "outputs": [
    {
     "name": "stdout",
     "output_type": "stream",
     "text": [
      "Arquivo 'solicitacoes_ba_estado.csv' salvo com sucesso.\n"
     ]
    }
   ],
   "source": [
    "# 3) Salvar um Arquivo .csv com os Dados de Solicitações da Bahia com Interessado = \"Estado\"\n",
    "df_ba_estado = consulta_pvl('BA', 'Estado')\n",
    "df_ba_estado.to_csv('solicitacoes_ba_estado.csv', index=False)\n",
    "print(\"Arquivo 'solicitacoes_ba_estado.csv' salvo com sucesso.\")\n"
   ]
  },
  {
   "cell_type": "code",
   "execution_count": null,
   "metadata": {},
   "outputs": [],
   "source": [
    "# 4) Seu código aqui"
   ]
  }
 ],
 "metadata": {
  "kernelspec": {
   "display_name": "Python 3 (ipykernel)",
   "language": "python",
   "name": "python3"
  },
  "language_info": {
   "codemirror_mode": {
    "name": "ipython",
    "version": 3
   },
   "file_extension": ".py",
   "mimetype": "text/x-python",
   "name": "python",
   "nbconvert_exporter": "python",
   "pygments_lexer": "ipython3",
   "version": "3.12.4"
  }
 },
 "nbformat": 4,
 "nbformat_minor": 4
}
