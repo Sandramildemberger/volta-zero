{
 "cells": [
  {
   "cell_type": "markdown",
   "metadata": {},
   "source": [
    "## Exercício 1: Vestibular\n",
    "\n",
    "Considere que a os dados gerados na célula abaixo contêm o número de acertos de 100 alunos em um vestibular para um curso de exatas, divididas pelos respectivos assuntos. Considere que cada assunto possui um número de questões conforme a tabela abaixo:\n",
    "\n",
    "| assunto | número de questões |\n",
    "|:---:|:---:|\n",
    "| Matemática | 24 |\n",
    "| Português | 18 |\n",
    "| Geografia | 8 |\n",
    "| Inglês | 8 |\n",
    "| História | 8 |\n",
    "| Física | 12 |\n",
    "| Química | 12 |\n",
    "\n",
    "Usando os comandos de operações com DataFrames que você aprendeu na Aula 03, calcule:\n",
    "\n",
    "1. (operações com escalar) Calcule o percentual de acerto dos alunos por assunto.  \n",
    "2. (operações entre *DataFrames) Calcule o total de acertos de cada aluno.  \n",
    "3. Calcule o porcentual geral de cada aluno.  \n",
    "4. Suponha que a nota de corte para a segunda fase seja 45. Quantos alunos tiveram nota maior que 45?  "
   ]
  },
  {
   "cell_type": "code",
   "execution_count": 18,
   "metadata": {},
   "outputs": [],
   "source": [
    "import pandas as pd\n",
    "import numpy as np\n",
    "\n",
    "np.random.seed(42)\n",
    "\n",
    "# Gerando os dados\n",
    "df_mat = pd.DataFrame(np.random.randint(0, 24, size=(100, 1)), columns=['Matemática'])\n",
    "df_por = pd.DataFrame(np.random.randint(0, 18, size=(100, 1)), columns=['Português'])\n",
    "df_geo = pd.DataFrame(np.random.randint(0, 8, size=(100, 1)), columns=['Geografia'])\n",
    "df_ing = pd.DataFrame(np.random.randint(0, 8, size=(100, 1)), columns=['Inglês'])\n",
    "df_his = pd.DataFrame(np.random.randint(0, 8, size=(100, 1)), columns=['História'])\n",
    "df_fis = pd.DataFrame(np.random.randint(0, 12, size=(100, 1)), columns=['Física'])\n",
    "df_qui = pd.DataFrame(np.random.randint(0, 12, size=(100, 1)), columns=['Química'])\n",
    "\n",
    "# Definindo o número de questões por assunto\n",
    "num_questoes = {\n",
    "    'Matemática': 24,\n",
    "    'Português': 18,\n",
    "    'Geografia': 8,\n",
    "    'Inglês': 8,\n",
    "    'História': 8,\n",
    "    'Física': 12,\n",
    "    'Química': 12\n",
    "}\n"
   ]
  },
  {
   "cell_type": "code",
   "execution_count": 35,
   "metadata": {},
   "outputs": [],
   "source": [
    "# Calculando o percentual de acerto por assunto\n",
    "df_mat['Percentual_acerto'] = (df_mat['Matemática'] / num_questoes['Matemática']) * 100\n",
    "df_por['Percentual_acerto'] = (df_por['Português'] / num_questoes['Português']) * 100\n",
    "df_geo['Percentual_acerto'] = (df_geo['Geografia'] / num_questoes['Geografia']) * 100\n",
    "df_ing['Percentual_acerto'] = (df_ing['Inglês'] / num_questoes['Inglês']) * 100\n",
    "df_his['Percentual_acerto'] = (df_his['História'] / num_questoes['História']) * 100\n",
    "df_fis['Percentual_acerto'] = (df_fis['Física'] / num_questoes['Física']) * 100\n",
    "df_qui['Percentual_acerto'] = (df_qui['Química'] / num_questoes['Química']) * 100"
   ]
  },
  {
   "cell_type": "code",
   "execution_count": 39,
   "metadata": {},
   "outputs": [],
   "source": [
    "# Unindo todos os DataFrames em um único\n",
    "df_total_acertos = pd.concat([df_mat, df_por, df_geo, df_ing, df_his, df_fis, df_qui], axis=1)"
   ]
  },
  {
   "cell_type": "code",
   "execution_count": 41,
   "metadata": {},
   "outputs": [
    {
     "name": "stdout",
     "output_type": "stream",
     "text": [
      "   Matemática  Percentual_acerto  Português  Percentual_acerto  Geografia  \\\n",
      "0           6          25.000000          7          38.888889          7   \n",
      "1          19          79.166667         10          55.555556          0   \n",
      "2          14          58.333333         16          88.888889          0   \n",
      "3          10          41.666667          7          38.888889          3   \n",
      "4           7          29.166667          2          11.111111          2   \n",
      "\n",
      "   Percentual_acerto  Inglês  Percentual_acerto  História  Percentual_acerto  \\\n",
      "0               87.5       3               37.5         1               12.5   \n",
      "1                0.0       0                0.0         0                0.0   \n",
      "2                0.0       5               62.5         7               87.5   \n",
      "3               37.5       4               50.0         0                0.0   \n",
      "4               25.0       7               87.5         0                0.0   \n",
      "\n",
      "   Física  Percentual_acerto  Química  Percentual_acerto  \n",
      "0       8          66.666667        3          25.000000  \n",
      "1      11          91.666667        8          66.666667  \n",
      "2       4          33.333333        4          33.333333  \n",
      "3       0           0.000000        8          66.666667  \n",
      "4       9          75.000000        3          25.000000  \n"
     ]
    }
   ],
   "source": [
    "# Verificando a estrutura do DataFrame após a concatenação\n",
    "print(df_total_acertos.head())"
   ]
  },
  {
   "cell_type": "code",
   "execution_count": 43,
   "metadata": {},
   "outputs": [],
   "source": [
    "# Calculando o total de acertos de cada aluno\n",
    "df_total_acertos['Total_acertos'] = df_total_acertos[\n",
    "    ['Matemática', 'Português', 'Geografia', 'Inglês', 'História', 'Física', 'Química']\n",
    "].sum(axis=1)"
   ]
  },
  {
   "cell_type": "code",
   "execution_count": 46,
   "metadata": {},
   "outputs": [
    {
     "name": "stdout",
     "output_type": "stream",
     "text": [
      "   Total_acertos\n",
      "0             35\n",
      "1             48\n",
      "2             50\n",
      "3             32\n",
      "4             30\n"
     ]
    }
   ],
   "source": [
    "# Verificando se a coluna 'Total_acertos' foi criada corretamente\n",
    "print(df_total_acertos[['Total_acertos']].head())\n"
   ]
  },
  {
   "cell_type": "code",
   "execution_count": 48,
   "metadata": {},
   "outputs": [],
   "source": [
    "# Calculando o percentual geral de cada aluno\n",
    "total_questoes = sum(num_questoes.values())\n",
    "df_total_acertos['Percentual_geral'] = (df_total_acertos['Total_acertos'] / total_questoes) * 100"
   ]
  },
  {
   "cell_type": "code",
   "execution_count": 50,
   "metadata": {},
   "outputs": [],
   "source": [
    "# Determinando quantos alunos tiveram nota maior que 45\n",
    "num_alunos_nota_maior_que_45 = (df_total_acertos['Total_acertos'] > 45).sum()"
   ]
  },
  {
   "cell_type": "code",
   "execution_count": 52,
   "metadata": {},
   "outputs": [
    {
     "name": "stdout",
     "output_type": "stream",
     "text": [
      "Código 1: Percentual de acerto dos alunos por assunto\n",
      "   Matemática  Percentual_acerto  Percentual_acerto  Percentual_acerto  \\\n",
      "0           6          25.000000          38.888889               87.5   \n",
      "1          19          79.166667          55.555556                0.0   \n",
      "2          14          58.333333          88.888889                0.0   \n",
      "3          10          41.666667          38.888889               37.5   \n",
      "4           7          29.166667          11.111111               25.0   \n",
      "\n",
      "   Percentual_acerto  Percentual_acerto  Percentual_acerto  Percentual_acerto  \n",
      "0               37.5               12.5          66.666667          25.000000  \n",
      "1                0.0                0.0          91.666667          66.666667  \n",
      "2               62.5               87.5          33.333333          33.333333  \n",
      "3               50.0                0.0           0.000000          66.666667  \n",
      "4               87.5                0.0          75.000000          25.000000  \n",
      "\n",
      "Código 2: Total de acertos de cada aluno\n",
      "   Total_acertos\n",
      "0             35\n",
      "1             48\n",
      "2             50\n",
      "3             32\n",
      "4             30\n",
      "\n",
      "Código 3: Percentual geral de cada aluno\n",
      "   Percentual_geral\n",
      "0         38.888889\n",
      "1         53.333333\n",
      "2         55.555556\n",
      "3         35.555556\n",
      "4         33.333333\n",
      "\n",
      "Código 4: Número de alunos com nota maior que 45\n",
      "Número de alunos: 31\n"
     ]
    }
   ],
   "source": [
    "# Exibindo os resultados\n",
    "print(\"Código 1: Percentual de acerto dos alunos por assunto\")\n",
    "print(df_total_acertos[['Matemática', 'Percentual_acerto']].head())\n",
    "print(\"\\nCódigo 2: Total de acertos de cada aluno\")\n",
    "print(df_total_acertos[['Total_acertos']].head())\n",
    "print(\"\\nCódigo 3: Percentual geral de cada aluno\")\n",
    "print(df_total_acertos[['Percentual_geral']].head())\n",
    "print(\"\\nCódigo 4: Número de alunos com nota maior que 45\")\n",
    "print(\"Número de alunos:\", num_alunos_nota_maior_que_45)"
   ]
  },
  {
   "cell_type": "markdown",
   "metadata": {},
   "source": [
    "## 2) Vestibular II\n",
    "\n",
    "Ainda sobre o mesmo banco de dados:\n",
    "\n",
    "1. Neste vestibular, quem 'zera' em matemática, física ou química está desqualificado. Monte um novo *DataFrame* com os alunos desqualificados por este critério.\n",
    "2. Quantos são esses alunos?\n",
    "3. Qual a média desses alunos em história e geografia?\n",
    "4. Monte um *DataFrame* com os alunos que passaram para a segunda fase. Repare que estes alunos não podem ter sido desqualificados."
   ]
  },
  {
   "cell_type": "code",
   "execution_count": 54,
   "metadata": {},
   "outputs": [],
   "source": [
    "# seu código aqui\n",
    "import pandas as pd\n",
    "import numpy as np\n",
    "\n",
    "# Gerando os dados\n",
    "np.random.seed(42)\n",
    "df_mat = pd.DataFrame(np.random.randint(0, 24, size=(100, 1)), columns=['Matemática'])\n",
    "df_por = pd.DataFrame(np.random.randint(0, 18, size=(100, 1)), columns=['Português'])\n",
    "df_geo = pd.DataFrame(np.random.randint(0, 8, size=(100, 1)), columns=['Geografia'])\n",
    "df_ing = pd.DataFrame(np.random.randint(0, 8, size=(100, 1)), columns=['Inglês'])\n",
    "df_his = pd.DataFrame(np.random.randint(0, 8, size=(100, 1)), columns=['História'])\n",
    "df_fis = pd.DataFrame(np.random.randint(0, 12, size=(100, 1)), columns=['Física'])\n",
    "df_qui = pd.DataFrame(np.random.randint(0, 12, size=(100, 1)), columns=['Química'])\n",
    "\n",
    "# Definindo o número de questões por assunto\n",
    "num_questoes = {\n",
    "    'Matemática': 24,\n",
    "    'Português': 18,\n",
    "    'Geografia': 8,\n",
    "    'Inglês': 8,\n",
    "    'História': 8,\n",
    "    'Física': 12,\n",
    "    'Química': 12\n",
    "}\n",
    "\n",
    "# Calculando o percentual de acerto por assunto\n",
    "df_mat['Percentual_acerto'] = (df_mat['Matemática'] / num_questoes['Matemática']) * 100\n",
    "df_por['Percentual_acerto'] = (df_por['Português'] / num_questoes['Português']) * 100\n",
    "df_geo['Percentual_acerto'] = (df_geo['Geografia'] / num_questoes['Geografia']) * 100\n",
    "df_ing['Percentual_acerto'] = (df_ing['Inglês'] / num_questoes['Inglês']) * 100\n",
    "df_his['Percentual_acerto'] = (df_his['História'] / num_questoes['História']) * 100\n",
    "df_fis['Percentual_acerto'] = (df_fis['Física'] / num_questoes['Física']) * 100\n",
    "df_qui['Percentual_acerto'] = (df_qui['Química'] / num_questoes['Química']) * 100\n",
    "\n",
    "# Unindo todos os DataFrames em um único\n",
    "df_total_acertos = pd.concat([df_mat, df_por, df_geo, df_ing, df_his, df_fis, df_qui], axis=1)\n",
    "\n",
    "# Calculando o total de acertos de cada aluno\n",
    "df_total_acertos['Total_acertos'] = df_total_acertos[\n",
    "    ['Matemática', 'Português', 'Geografia', 'Inglês', 'História', 'Física', 'Química']\n",
    "].sum(axis=1)\n",
    "\n",
    "# Calculando o percentual geral de cada aluno\n",
    "total_questoes = sum(num_questoes.values())\n",
    "df_total_acertos['Percentual_geral'] = (df_total_acertos['Total_acertos'] / total_questoes) * 100\n"
   ]
  },
  {
   "cell_type": "code",
   "execution_count": 56,
   "metadata": {},
   "outputs": [],
   "source": [
    "# Identificando alunos desqualificados\n",
    "df_desqualificados = df_total_acertos[\n",
    "    (df_total_acertos['Matemática'] == 0) | \n",
    "    (df_total_acertos['Física'] == 0) | \n",
    "    (df_total_acertos['Química'] == 0)\n",
    "]"
   ]
  },
  {
   "cell_type": "code",
   "execution_count": 58,
   "metadata": {},
   "outputs": [],
   "source": [
    "# Número de alunos desqualificados\n",
    "num_desqualificados = df_desqualificados.shape[0]"
   ]
  },
  {
   "cell_type": "code",
   "execution_count": 60,
   "metadata": {},
   "outputs": [],
   "source": [
    "# Média dos alunos desqualificados em História e Geografia\n",
    "media_hist_geo_desqualificados = df_desqualificados[['História', 'Geografia']].mean()"
   ]
  },
  {
   "cell_type": "code",
   "execution_count": 62,
   "metadata": {},
   "outputs": [],
   "source": [
    "# Identificando alunos qualificados para a segunda fase\n",
    "df_qualificados = df_total_acertos[\n",
    "    (df_total_acertos['Matemática'] != 0) & \n",
    "    (df_total_acertos['Física'] != 0) & \n",
    "    (df_total_acertos['Química'] != 0)\n",
    "]"
   ]
  },
  {
   "cell_type": "code",
   "execution_count": 64,
   "metadata": {},
   "outputs": [
    {
     "name": "stdout",
     "output_type": "stream",
     "text": [
      "Número de alunos desqualificados: 23\n",
      "Média dos alunos desqualificados em História e Geografia:\n",
      "História     3.434783\n",
      "Geografia    3.217391\n",
      "dtype: float64\n",
      "Alunos qualificados para a segunda fase:\n",
      "   Matemática  Percentual_acerto  Português  Percentual_acerto  Geografia  \\\n",
      "0           6          25.000000          7          38.888889          7   \n",
      "1          19          79.166667         10          55.555556          0   \n",
      "2          14          58.333333         16          88.888889          0   \n",
      "4           7          29.166667          2          11.111111          2   \n",
      "5          20          83.333333          2          11.111111          5   \n",
      "\n",
      "   Percentual_acerto  Inglês  Percentual_acerto  História  Percentual_acerto  \\\n",
      "0               87.5       3               37.5         1               12.5   \n",
      "1                0.0       0                0.0         0                0.0   \n",
      "2                0.0       5               62.5         7               87.5   \n",
      "4               25.0       7               87.5         0                0.0   \n",
      "5               62.5       3               37.5         2               25.0   \n",
      "\n",
      "   Física  Percentual_acerto  Química  Percentual_acerto  Total_acertos  \\\n",
      "0       8          66.666667        3          25.000000             35   \n",
      "1      11          91.666667        8          66.666667             48   \n",
      "2       4          33.333333        4          33.333333             50   \n",
      "4       9          75.000000        3          25.000000             30   \n",
      "5       9          75.000000        9          75.000000             50   \n",
      "\n",
      "   Percentual_geral  \n",
      "0         38.888889  \n",
      "1         53.333333  \n",
      "2         55.555556  \n",
      "4         33.333333  \n",
      "5         55.555556  \n"
     ]
    }
   ],
   "source": [
    "# Exibindo os resultados\n",
    "print(\"Número de alunos desqualificados:\", num_desqualificados)\n",
    "print(\"Média dos alunos desqualificados em História e Geografia:\")\n",
    "print(media_hist_geo_desqualificados)\n",
    "print(\"Alunos qualificados para a segunda fase:\")\n",
    "print(df_qualificados.head())"
   ]
  },
  {
   "cell_type": "markdown",
   "metadata": {},
   "source": [
    "## 3) Vacinações no Acre\n",
    "Vamos trabalhar agora com a base de vacinações no Acre. Para facilitar a sua vida, copiamos o link do arquivo na célula abaixo.\n",
    "\n",
    "1. Quantas vacinas estão registradas nessa base?  \n",
    "2. Quantos pacientes foram vacinados? (considere um paciente para cada valor único de ```paciente_id```)  \n",
    "3. Quantos pacientes únicos tomaram a primeira dose? OBS: Há um caractere especial neste campo. Receba os valores do campo com o método ```.unique()```.   \n",
    "4. Quantos pacientes com menos de 18 anos foram vacinados?  \n",
    "5. Quantos estabelecimentos aplicaram vacina no Acre?\n",
    "\n",
    "\n",
    "**OBS:** O portal do DATASUS pode apresentar instabilidades, retornando um erro na segunda célula abaixo. Por este motivo está disponível uma base estática, que se for baixada para o seu *working directory* pode ser lida com este comando: ```df = pd.read_csv('registros de vacinacao covid ACRE.csv', sep=';')```.\n",
    "\n",
    "**OBS2:** Para saber qual é o seu working directory, rode no jupyter: ```!pwd```."
   ]
  },
  {
   "cell_type": "code",
   "execution_count": 66,
   "metadata": {},
   "outputs": [],
   "source": [
    "import pandas as pd\n",
    "\n",
    "# Carregar os dados\n",
    "df = pd.read_csv('Registros_VAC.csv', sep=';')"
   ]
  },
  {
   "cell_type": "code",
   "execution_count": 68,
   "metadata": {},
   "outputs": [
    {
     "name": "stdout",
     "output_type": "stream",
     "text": [
      "                                 document_id  \\\n",
      "0  b19cd280-474c-4c22-a35d-8c06bc04a4e0-i0b0   \n",
      "1  a1acc0b6-1cf6-4c4b-adcb-06b473a0faaf-i0b0   \n",
      "2  af279a98-ba1f-47ea-8214-314a98040b0d-i0b0   \n",
      "3  4879308e-5050-46bb-b8e2-11fa5646a05c-i0b0   \n",
      "4  000e911b-e3a4-4114-a735-d1f2e6e3797f-i0b0   \n",
      "\n",
      "                                         paciente_id  paciente_idade  \\\n",
      "0  2e091c9a37d3f50d1d705fc80c6448c6fc69b44da9e936...              69   \n",
      "1  f4e17a9e5354cb45e223d85eda02fb2f76048c801675f5...              81   \n",
      "2  6734b26bccf826130ebffa66575977bbe71477b12bcf42...              69   \n",
      "3  84a341fd350c1ba7117fccbb4d2df417bc0fac0fffac37...              51   \n",
      "4  c59571e19f368d4b0cf08cd3bcabb32e5cd8baad5340f6...              65   \n",
      "\n",
      "  paciente_datanascimento paciente_enumsexobiologico  paciente_racacor_codigo  \\\n",
      "0              28/12/1951                          F                        3   \n",
      "1              22/11/1939                          M                        3   \n",
      "2              14/08/1951                          M                        4   \n",
      "3              15/12/1969                          F                        3   \n",
      "4              21/11/1955                          M                        3   \n",
      "\n",
      "  paciente_racacor_valor  paciente_endereco_coibgemunicipio  \\\n",
      "0                  PARDA                           120050.0   \n",
      "1                  PARDA                           120040.0   \n",
      "2                AMARELA                           120020.0   \n",
      "3                  PARDA                           120040.0   \n",
      "4                  PARDA                           120040.0   \n",
      "\n",
      "   paciente_endereco_copais paciente_endereco_nmmunicipio  ...   vacina_lote  \\\n",
      "0                      10.0                SENA MADUREIRA  ...       210052A   \n",
      "1                      10.0                    RIO BRANCO  ...        210110   \n",
      "2                      10.0               CRUZEIRO DO SUL  ...        210135   \n",
      "3                      10.0                    RIO BRANCO  ...     202010040   \n",
      "4                      10.0                    RIO BRANCO  ...  212VCD001ZVB   \n",
      "\n",
      "  vacina_fabricante_nome  vacina_fabricante_referencia vacina_dataaplicacao  \\\n",
      "0      FUNDACAO BUTANTAN   Organization/61189445000156           23/03/2021   \n",
      "1      FUNDACAO BUTANTAN   Organization/61189445000156           29/04/2021   \n",
      "2      FUNDACAO BUTANTAN   Organization/61189445000156           16/04/2021   \n",
      "3      FUNDACAO BUTANTAN   Organization/61189445000156           19/02/2021   \n",
      "4  FUNDACAO OSWALDO CRUZ   Organization/33781055000135           29/03/2021   \n",
      "\n",
      "   vacina_descricao_dose vacina_codigo                          vacina_nome  \\\n",
      "0                1ª Dose            86  Covid-19-Coronavac-Sinovac/Butantan   \n",
      "1                2ª Dose            86  Covid-19-Coronavac-Sinovac/Butantan   \n",
      "2                1ª Dose            86  Covid-19-Coronavac-Sinovac/Butantan   \n",
      "3                2ª Dose            86  Covid-19-Coronavac-Sinovac/Butantan   \n",
      "4                1ª Dose            85         Vacina Covid-19 - Covishield   \n",
      "\n",
      "   sistema_origem      data_importacao_rnds id_sistema_origem  \n",
      "0        Novo PNI  2021-03-25T03:27:19.000Z               NaN  \n",
      "1        Novo PNI  2021-04-30T16:03:14.000Z               NaN  \n",
      "2        Novo PNI  2021-04-16T15:54:39.000Z               NaN  \n",
      "3        Novo PNI  2021-03-10T14:40:54.000Z               NaN  \n",
      "4        Novo PNI  2021-04-03T19:44:28.000Z               NaN  \n",
      "\n",
      "[5 rows x 34 columns]\n"
     ]
    }
   ],
   "source": [
    "print(df.head())"
   ]
  },
  {
   "cell_type": "markdown",
   "metadata": {},
   "source": [
    "# 1. Quantas vacinas estão registradas nessa base?"
   ]
  },
  {
   "cell_type": "code",
   "execution_count": 70,
   "metadata": {},
   "outputs": [
    {
     "name": "stdout",
     "output_type": "stream",
     "text": [
      "Número de vacinas registradas: 169071\n"
     ]
    }
   ],
   "source": [
    "num_vacinas_registradas = df.shape[0]\n",
    "print(\"Número de vacinas registradas:\", num_vacinas_registradas)"
   ]
  },
  {
   "cell_type": "markdown",
   "metadata": {},
   "source": [
    "# 2. Quantos pacientes foram vacinados?"
   ]
  },
  {
   "cell_type": "code",
   "execution_count": 72,
   "metadata": {},
   "outputs": [
    {
     "name": "stdout",
     "output_type": "stream",
     "text": [
      "Número de pacientes vacinados: 120517\n"
     ]
    }
   ],
   "source": [
    "num_pacientes_vacinados = df['paciente_id'].nunique()\n",
    "print(\"Número de pacientes vacinados:\", num_pacientes_vacinados)"
   ]
  },
  {
   "cell_type": "markdown",
   "metadata": {},
   "source": [
    "# 3. Quantos pacientes únicos tomaram a primeira dose?"
   ]
  },
  {
   "cell_type": "code",
   "execution_count": 78,
   "metadata": {},
   "outputs": [
    {
     "data": {
      "text/plain": [
       "119713"
      ]
     },
     "execution_count": 78,
     "metadata": {},
     "output_type": "execute_result"
    }
   ],
   "source": [
    "primeira_dose = df['vacina_descricao_dose'].unique()[0]\n",
    "df_primeira_dose = df[df['vacina_descricao_dose'] == primeira_dose]\n",
    "df_primeira_dose['paciente_id'].nunique()"
   ]
  },
  {
   "cell_type": "markdown",
   "metadata": {},
   "source": [
    "# 4. Quantos pacientes com menos de 18 anos foram vacinados?"
   ]
  },
  {
   "cell_type": "code",
   "execution_count": 80,
   "metadata": {},
   "outputs": [
    {
     "data": {
      "text/plain": [
       "47"
      ]
     },
     "execution_count": 80,
     "metadata": {},
     "output_type": "execute_result"
    }
   ],
   "source": [
    "df_menor = df[df[\"paciente_idade\"]<18]\n",
    "df_menor['paciente_id'].nunique()"
   ]
  },
  {
   "cell_type": "markdown",
   "metadata": {},
   "source": [
    "# 5. Quantos estabelecimentos aplicaram vacina no Acre?"
   ]
  },
  {
   "cell_type": "code",
   "execution_count": 83,
   "metadata": {},
   "outputs": [
    {
     "data": {
      "text/plain": [
       "42"
      ]
     },
     "execution_count": 83,
     "metadata": {},
     "output_type": "execute_result"
    }
   ],
   "source": [
    "df['estabelecimento_razaosocial'].nunique()"
   ]
  },
  {
   "cell_type": "markdown",
   "metadata": {},
   "source": [
    "## 4) Vacinação II\n",
    "Gere um *DataFrame* que contenha somente os estabelecimentos que aplicaram vcinas a menores de 18 anos. Nesse *DataFrame* devem conter somente os dados dos estabelecimentos, mais uma coluna sendo a quantidade de vacinas que o estabelecimento aplicou a menores de 18 anos.  \n",
    "  \n",
    "1. crie uma cópia do *DataFrame* original, contendo somente os registros de vacinas realizadas a menores de 18 anos.  \n",
    "2. crie uma lista das colunas desse *DataFrame* com o atributo de *DataFrame* **.columns()**  \n",
    "3. Nesse *DataFrame* faça uma contagem do campo ```vacina_categoria_nome```.\n",
    "3. a partir da lista de colunas, escolha somente aquelas que são referentes ao estabelecimento, faça uma lista com esses valores.  \n",
    "4. usando o método *.loc*, selecione somente essas variáveis  \n",
    "5. Aplique o método **.drop_duplicates** e crie uma lista com uma linha para cada estabelecimento, com os dados do estabelecimento  "
   ]
  },
  {
   "cell_type": "code",
   "execution_count": 107,
   "metadata": {},
   "outputs": [
    {
     "name": "stdout",
     "output_type": "stream",
     "text": [
      "Colunas do DataFrame:\n",
      "Index(['document_id', 'paciente_id', 'paciente_idade',\n",
      "       'paciente_datanascimento', 'paciente_enumsexobiologico',\n",
      "       'paciente_racacor_codigo', 'paciente_racacor_valor',\n",
      "       'paciente_endereco_coibgemunicipio', 'paciente_endereco_copais',\n",
      "       'paciente_endereco_nmmunicipio', 'paciente_endereco_nmpais',\n",
      "       'paciente_endereco_uf', 'paciente_endereco_cep',\n",
      "       'paciente_nacionalidade_enumnacionalidade', 'estabelecimento_valor',\n",
      "       'estabelecimento_razaosocial', 'estalecimento_nofantasia',\n",
      "       'estabelecimento_municipio_codigo', 'estabelecimento_municipio_nome',\n",
      "       'estabelecimento_uf', 'vacina_grupoatendimento_codigo',\n",
      "       'vacina_grupoatendimento_nome', 'vacina_categoria_codigo',\n",
      "       'vacina_categoria_nome', 'vacina_lote', 'vacina_fabricante_nome',\n",
      "       'vacina_fabricante_referencia', 'vacina_dataaplicacao',\n",
      "       'vacina_descricao_dose', 'vacina_codigo', 'vacina_nome',\n",
      "       'sistema_origem', 'data_importacao_rnds', 'id_sistema_origem'],\n",
      "      dtype='object')\n"
     ]
    }
   ],
   "source": [
    "import pandas as pd\n",
    "\n",
    "# Carregar o arquivo de dados\n",
    "df = pd.read_csv('Registros_VAC.csv', sep=';')\n",
    "\n",
    "# Verificar os nomes das colunas\n",
    "print(\"Colunas do DataFrame:\")\n",
    "print(df.columns)"
   ]
  },
  {
   "cell_type": "code",
   "execution_count": 111,
   "metadata": {},
   "outputs": [
    {
     "name": "stdout",
     "output_type": "stream",
     "text": [
      "Colunas do DataFrame de menores de 18 anos: ['document_id', 'paciente_id', 'paciente_idade', 'paciente_datanascimento', 'paciente_enumsexobiologico', 'paciente_racacor_codigo', 'paciente_racacor_valor', 'paciente_endereco_coibgemunicipio', 'paciente_endereco_copais', 'paciente_endereco_nmmunicipio', 'paciente_endereco_nmpais', 'paciente_endereco_uf', 'paciente_endereco_cep', 'paciente_nacionalidade_enumnacionalidade', 'estabelecimento_valor', 'estabelecimento_razaosocial', 'estalecimento_nofantasia', 'estabelecimento_municipio_codigo', 'estabelecimento_municipio_nome', 'estabelecimento_uf', 'vacina_grupoatendimento_codigo', 'vacina_grupoatendimento_nome', 'vacina_categoria_codigo', 'vacina_categoria_nome', 'vacina_lote', 'vacina_fabricante_nome', 'vacina_fabricante_referencia', 'vacina_dataaplicacao', 'vacina_descricao_dose', 'vacina_codigo', 'vacina_nome', 'sistema_origem', 'data_importacao_rnds', 'id_sistema_origem', 'idade']\n"
     ]
    }
   ],
   "source": [
    "import pandas as pd\n",
    "\n",
    "# Carregar o arquivo de dados\n",
    "df = pd.read_csv('Registros_VAC.csv', sep=';')\n",
    "\n",
    "# Convertendo colunas de datas com o formato explícito\n",
    "df['paciente_datanascimento'] = pd.to_datetime(df['paciente_datanascimento'], format='%d/%m/%Y', errors='coerce')\n",
    "df['vacina_dataaplicacao'] = pd.to_datetime(df['vacina_dataaplicacao'], format='%d/%m/%Y', errors='coerce')\n",
    "\n",
    "# Calculando a idade dos pacientes\n",
    "df['idade'] = (df['vacina_dataaplicacao'] - df['paciente_datanascimento']).dt.days // 365\n",
    "\n",
    "# Filtrando o DataFrame para menores de 18 anos\n",
    "df_menores_18 = df[df['idade'] < 18].copy()\n",
    "\n",
    "# Lista de colunas do DataFrame de menores de 18 anos\n",
    "colunas_menores_18 = df_menores_18.columns.tolist()\n",
    "print(\"Colunas do DataFrame de menores de 18 anos:\", colunas_menores_18)\n"
   ]
  },
  {
   "cell_type": "markdown",
   "metadata": {},
   "source": [
    "# 1. Criar um DataFrame com os estabelecimentos que aplicaram vacinas a menores de 18 anos e a quantidade de vacinas que aplicaram"
   ]
  },
  {
   "cell_type": "code",
   "execution_count": 113,
   "metadata": {},
   "outputs": [
    {
     "name": "stdout",
     "output_type": "stream",
     "text": [
      "                         estabelecimento_razaosocial  \\\n",
      "0  DISTRITO SANITARIO ESPECIAL DE SAUDE INDIGENA ...   \n",
      "1    DISTRITO SANITARIO ESPECIAL INDIGENA ALTO JURUA   \n",
      "2  DISTRITO SANITARIO ESPECIAL INDIGENA ALTO RIO ...   \n",
      "3  DISTRITO SANITARIO ESPECIAL INDIGENA ALTO RIO ...   \n",
      "4  DISTRITO SANITARIO ESPECIAL INDIGENA ALTO RIO ...   \n",
      "\n",
      "  estabelecimento_municipio_nome  quantidade_vacinas  \n",
      "0                  MANOEL URBANO                   2  \n",
      "1                         JORDAO                   4  \n",
      "2                CRUZEIRO DO SUL                   1  \n",
      "3                          FEIJO                   6  \n",
      "4                    MANCIO LIMA                   3  \n"
     ]
    }
   ],
   "source": [
    "# Agrupar por estabelecimento e contar a quantidade de vacinas aplicadas a menores de 18 anos\n",
    "df_estabelecimentos_menores_18 = df_menores_18.groupby(['estabelecimento_razaosocial', 'estabelecimento_municipio_nome']).size().reset_index(name='quantidade_vacinas')\n",
    "\n",
    "# Exibir as primeiras linhas do DataFrame\n",
    "print(df_estabelecimentos_menores_18.head())\n"
   ]
  },
  {
   "cell_type": "markdown",
   "metadata": {},
   "source": [
    "# 2. Criar uma cópia do DataFrame original contendo somente registros de vacinas realizadas a menores de 18 anos"
   ]
  },
  {
   "cell_type": "code",
   "execution_count": 115,
   "metadata": {},
   "outputs": [
    {
     "name": "stdout",
     "output_type": "stream",
     "text": [
      "                                     document_id  \\\n",
      "1567   fdca313f-b348-422d-94d4-f2c66a87868c-i0b0   \n",
      "6250   b7431955-1faa-4c1e-9246-7c1e7b8bb3cb-i0b0   \n",
      "9569   fdb8d3b6-14d9-4bcc-9cfe-acd46b4a317a-i0b0   \n",
      "11338  647e2301-3ba4-463a-8d1e-2b6f38a4d99e-i0b0   \n",
      "15144  7f469e03-bece-49d0-bebc-33ad98e27f54-i0b0   \n",
      "\n",
      "                                             paciente_id  paciente_idade  \\\n",
      "1567   f5e6b8c44f7c4d13a87c582def5e8d460435b02f26af8c...              17   \n",
      "6250   e1a45c07e3c393d5f0eccf4204a7ceab338f4f06696ecb...              16   \n",
      "9569   7cf3b238383a70eeb26841c01817737c9706d5b231e8c2...              17   \n",
      "11338  53eb7fed5faa26ad17ce21ee378f28e25399ab7e90bc05...              17   \n",
      "15144  dbaa6420d8a815158387668d0a59a19cf2bb63958e35d1...              16   \n",
      "\n",
      "      paciente_datanascimento paciente_enumsexobiologico  \\\n",
      "1567               2003-07-18                          F   \n",
      "6250               2004-05-18                          M   \n",
      "9569               2004-01-23                          F   \n",
      "11338              2003-05-04                          F   \n",
      "15144              2004-08-22                          F   \n",
      "\n",
      "       paciente_racacor_codigo paciente_racacor_valor  \\\n",
      "1567                         4                AMARELA   \n",
      "6250                         3                  PARDA   \n",
      "9569                        99         SEM INFORMACAO   \n",
      "11338                        4                AMARELA   \n",
      "15144                        5               INDIGENA   \n",
      "\n",
      "       paciente_endereco_coibgemunicipio  paciente_endereco_copais  \\\n",
      "1567                            120025.0                      10.0   \n",
      "6250                            120040.0                      10.0   \n",
      "9569                            120020.0                      10.0   \n",
      "11338                           120030.0                      10.0   \n",
      "15144                           120035.0                      10.0   \n",
      "\n",
      "      paciente_endereco_nmmunicipio  ... vacina_fabricante_nome  \\\n",
      "1567                 EPITACIOLANDIA  ...  FUNDACAO OSWALDO CRUZ   \n",
      "6250                     RIO BRANCO  ...      FUNDACAO BUTANTAN   \n",
      "9569                CRUZEIRO DO SUL  ...  FUNDACAO OSWALDO CRUZ   \n",
      "11338                         FEIJO  ...  FUNDACAO OSWALDO CRUZ   \n",
      "15144          MARECHAL THAUMATURGO  ...      FUNDACAO BUTANTAN   \n",
      "\n",
      "      vacina_fabricante_referencia  vacina_dataaplicacao  \\\n",
      "1567   Organization/33781055000135            2021-05-12   \n",
      "6250   Organization/61189445000156            2021-01-29   \n",
      "9569   Organization/33781055000135            2021-05-15   \n",
      "11338  Organization/33781055000135            2021-02-09   \n",
      "15144  Organization/61189445000156            2021-01-28   \n",
      "\n",
      "      vacina_descricao_dose  vacina_codigo  \\\n",
      "1567                1ª Dose             85   \n",
      "6250                1ª Dose             86   \n",
      "9569                1ª Dose             85   \n",
      "11338               1ª Dose             85   \n",
      "15144               1ª Dose             86   \n",
      "\n",
      "                               vacina_nome sistema_origem  \\\n",
      "1567          Vacina Covid-19 - Covishield       Novo PNI   \n",
      "6250   Covid-19-Coronavac-Sinovac/Butantan       Novo PNI   \n",
      "9569          Vacina Covid-19 - Covishield       Novo PNI   \n",
      "11338         Vacina Covid-19 - Covishield       Novo PNI   \n",
      "15144  Covid-19-Coronavac-Sinovac/Butantan       Novo PNI   \n",
      "\n",
      "           data_importacao_rnds id_sistema_origem idade  \n",
      "1567   2021-05-13T16:16:42.000Z               NaN  17.0  \n",
      "6250   2021-02-06T14:02:07.000Z               NaN  16.0  \n",
      "9569   2021-05-18T03:17:02.000Z               NaN  17.0  \n",
      "11338  2021-02-09T22:08:13.000Z               NaN  17.0  \n",
      "15144  2021-02-09T19:26:03.000Z               NaN  16.0  \n",
      "\n",
      "[5 rows x 35 columns]\n"
     ]
    }
   ],
   "source": [
    "# Criar uma cópia do DataFrame original com somente registros de vacinas realizadas a menores de 18 anos\n",
    "df_menores_18_registros = df[df['idade'] < 18].copy()\n",
    "\n",
    "# Exibir as primeiras linhas do DataFrame\n",
    "print(df_menores_18_registros.head())\n"
   ]
  },
  {
   "cell_type": "markdown",
   "metadata": {},
   "source": [
    "# 3. Listar as colunas do DataFrame de menores de 18 anos"
   ]
  },
  {
   "cell_type": "code",
   "execution_count": 117,
   "metadata": {},
   "outputs": [
    {
     "name": "stdout",
     "output_type": "stream",
     "text": [
      "Colunas do DataFrame de menores de 18 anos: ['document_id', 'paciente_id', 'paciente_idade', 'paciente_datanascimento', 'paciente_enumsexobiologico', 'paciente_racacor_codigo', 'paciente_racacor_valor', 'paciente_endereco_coibgemunicipio', 'paciente_endereco_copais', 'paciente_endereco_nmmunicipio', 'paciente_endereco_nmpais', 'paciente_endereco_uf', 'paciente_endereco_cep', 'paciente_nacionalidade_enumnacionalidade', 'estabelecimento_valor', 'estabelecimento_razaosocial', 'estalecimento_nofantasia', 'estabelecimento_municipio_codigo', 'estabelecimento_municipio_nome', 'estabelecimento_uf', 'vacina_grupoatendimento_codigo', 'vacina_grupoatendimento_nome', 'vacina_categoria_codigo', 'vacina_categoria_nome', 'vacina_lote', 'vacina_fabricante_nome', 'vacina_fabricante_referencia', 'vacina_dataaplicacao', 'vacina_descricao_dose', 'vacina_codigo', 'vacina_nome', 'sistema_origem', 'data_importacao_rnds', 'id_sistema_origem', 'idade']\n"
     ]
    }
   ],
   "source": [
    "colunas_menores_18 = df_menores_18.columns.tolist()\n",
    "print(\"Colunas do DataFrame de menores de 18 anos:\", colunas_menores_18)\n"
   ]
  },
  {
   "cell_type": "markdown",
   "metadata": {},
   "source": [
    "# 4. Contar a ocorrência do campo vacina_categoria_nome"
   ]
  },
  {
   "cell_type": "code",
   "execution_count": 119,
   "metadata": {},
   "outputs": [
    {
     "name": "stdout",
     "output_type": "stream",
     "text": [
      "Contagem do campo vacina_categoria_nome:\n",
      "vacina_categoria_nome\n",
      "Povos Indígenas                     33\n",
      "Trabalhadores de Saúde               9\n",
      "Povos e Comunidades Tradicionais     8\n",
      "Comorbidades                         2\n",
      "Faixa Etária                         1\n",
      "Name: count, dtype: int64\n"
     ]
    }
   ],
   "source": [
    "# Contar a ocorrência de cada categoria de vacina\n",
    "contagem_vacina_categoria = df_menores_18['vacina_categoria_nome'].value_counts()\n",
    "print(\"Contagem do campo vacina_categoria_nome:\")\n",
    "print(contagem_vacina_categoria)\n"
   ]
  },
  {
   "cell_type": "markdown",
   "metadata": {},
   "source": [
    "# 5. Selecionar colunas referentes ao estabelecimento e remover duplicatas ***AQUI FIZ UM TESTE PARA FICAR MAIS APRESENTÁVEL A TABELA\""
   ]
  },
  {
   "cell_type": "code",
   "execution_count": 123,
   "metadata": {},
   "outputs": [
    {
     "data": {
      "text/html": [
       "<style type=\"text/css\">\n",
       "</style>\n",
       "<table id=\"T_53cf3\">\n",
       "  <thead>\n",
       "    <tr>\n",
       "      <th class=\"blank level0\" >&nbsp;</th>\n",
       "      <th id=\"T_53cf3_level0_col0\" class=\"col_heading level0 col0\" >estabelecimento_razaosocial</th>\n",
       "      <th id=\"T_53cf3_level0_col1\" class=\"col_heading level0 col1\" >estabelecimento_municipio_nome</th>\n",
       "      <th id=\"T_53cf3_level0_col2\" class=\"col_heading level0 col2\" >estabelecimento_uf</th>\n",
       "    </tr>\n",
       "  </thead>\n",
       "  <tbody>\n",
       "    <tr>\n",
       "      <th id=\"T_53cf3_level0_row0\" class=\"row_heading level0 row0\" >1567</th>\n",
       "      <td id=\"T_53cf3_row0_col0\" class=\"data row0 col0\" >PREFEITURA MUNICIPAL DE EPITACIOLANDIA</td>\n",
       "      <td id=\"T_53cf3_row0_col1\" class=\"data row0 col1\" >EPITACIOLANDIA</td>\n",
       "      <td id=\"T_53cf3_row0_col2\" class=\"data row0 col2\" >AC</td>\n",
       "    </tr>\n",
       "    <tr>\n",
       "      <th id=\"T_53cf3_level0_row1\" class=\"row_heading level0 row1\" >6250</th>\n",
       "      <td id=\"T_53cf3_row1_col0\" class=\"data row1 col0\" >PREFEITURA MUNICIPAL DE RIO BRANCO</td>\n",
       "      <td id=\"T_53cf3_row1_col1\" class=\"data row1 col1\" >RIO BRANCO</td>\n",
       "      <td id=\"T_53cf3_row1_col2\" class=\"data row1 col2\" >AC</td>\n",
       "    </tr>\n",
       "    <tr>\n",
       "      <th id=\"T_53cf3_level0_row2\" class=\"row_heading level0 row2\" >9569</th>\n",
       "      <td id=\"T_53cf3_row2_col0\" class=\"data row2 col0\" >PREFEITURA MUNICIPAL DE CRUZEIRO DO SUL</td>\n",
       "      <td id=\"T_53cf3_row2_col1\" class=\"data row2 col1\" >CRUZEIRO DO SUL</td>\n",
       "      <td id=\"T_53cf3_row2_col2\" class=\"data row2 col2\" >AC</td>\n",
       "    </tr>\n",
       "    <tr>\n",
       "      <th id=\"T_53cf3_level0_row3\" class=\"row_heading level0 row3\" >11338</th>\n",
       "      <td id=\"T_53cf3_row3_col0\" class=\"data row3 col0\" >PREFEITURA MUNICIPAL DE FEIJO</td>\n",
       "      <td id=\"T_53cf3_row3_col1\" class=\"data row3 col1\" >FEIJO</td>\n",
       "      <td id=\"T_53cf3_row3_col2\" class=\"data row3 col2\" >AC</td>\n",
       "    </tr>\n",
       "    <tr>\n",
       "      <th id=\"T_53cf3_level0_row4\" class=\"row_heading level0 row4\" >15144</th>\n",
       "      <td id=\"T_53cf3_row4_col0\" class=\"data row4 col0\" >DISTRITO SANITARIO ESPECIAL INDIGENA ALTO RIO JURUA</td>\n",
       "      <td id=\"T_53cf3_row4_col1\" class=\"data row4 col1\" >MARECHAL THAUMATURGO</td>\n",
       "      <td id=\"T_53cf3_row4_col2\" class=\"data row4 col2\" >AC</td>\n",
       "    </tr>\n",
       "  </tbody>\n",
       "</table>\n"
      ],
      "text/plain": [
       "<pandas.io.formats.style.Styler at 0x2329e3fe4e0>"
      ]
     },
     "metadata": {},
     "output_type": "display_data"
    }
   ],
   "source": [
    "import pandas as pd\n",
    "from IPython.display import display\n",
    "\n",
    "# Selecionar colunas referentes ao estabelecimento\n",
    "colunas_estabelecimento = ['estabelecimento_razaosocial', 'estabelecimento_municipio_nome', 'estabelecimento_uf']\n",
    "df_estabelecimentos = df_menores_18[colunas_estabelecimento]\n",
    "\n",
    "# Remover duplicatas\n",
    "estabelecimentos_unicos = df_estabelecimentos.drop_duplicates()\n",
    "\n",
    "# Exibir as primeiras linhas do DataFrame com dados únicos de forma estilizada\n",
    "display(estabelecimentos_unicos.head().style.format({\n",
    "    'estabelecimento_razaosocial': '{}',\n",
    "    'estabelecimento_municipio_nome': '{}',\n",
    "    'estabelecimento_uf': '{}'\n",
    "}).background_gradient(cmap='viridis'))\n"
   ]
  },
  {
   "cell_type": "code",
   "execution_count": null,
   "metadata": {},
   "outputs": [],
   "source": []
  }
 ],
 "metadata": {
  "kernelspec": {
   "display_name": "Python 3 (ipykernel)",
   "language": "python",
   "name": "python3"
  },
  "language_info": {
   "codemirror_mode": {
    "name": "ipython",
    "version": 3
   },
   "file_extension": ".py",
   "mimetype": "text/x-python",
   "name": "python",
   "nbconvert_exporter": "python",
   "pygments_lexer": "ipython3",
   "version": "3.12.4"
  },
  "toc": {
   "base_numbering": 1,
   "nav_menu": {},
   "number_sections": false,
   "sideBar": true,
   "skip_h1_title": true,
   "title_cell": "Índice",
   "title_sidebar": "Conteúdo",
   "toc_cell": false,
   "toc_position": {},
   "toc_section_display": true,
   "toc_window_display": false
  },
  "varInspector": {
   "cols": {
    "lenName": 16,
    "lenType": 16,
    "lenVar": 40
   },
   "kernels_config": {
    "python": {
     "delete_cmd_postfix": "",
     "delete_cmd_prefix": "del ",
     "library": "var_list.py",
     "varRefreshCmd": "print(var_dic_list())"
    },
    "r": {
     "delete_cmd_postfix": ") ",
     "delete_cmd_prefix": "rm(",
     "library": "var_list.r",
     "varRefreshCmd": "cat(var_dic_list()) "
    }
   },
   "types_to_exclude": [
    "module",
    "function",
    "builtin_function_or_method",
    "instance",
    "_Feature"
   ],
   "window_display": false
  }
 },
 "nbformat": 4,
 "nbformat_minor": 4
}
