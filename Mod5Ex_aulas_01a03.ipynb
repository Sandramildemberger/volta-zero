{
 "cells": [
  {
   "cell_type": "markdown",
   "metadata": {},
   "source": [
    "# Módulo 5 Tarefa 1\n",
    "## Base de nascidos vivos do DataSUS\n",
    "O DataSUS disponibiliza diversos arquivos de dados com relação a seus segurados, conforme a [lei da transparência de informações públicas](https://www.sisgov.com/transparencia-acesso-informacao/#:~:text=A%20Lei%20da%20Transpar%C3%AAncia%20(LC,em%20um%20site%20na%20internet.). \n",
    "\n",
    "Essas informações podem ser obtidas pela internet [aqui](http://www2.datasus.gov.br/DATASUS/index.php?area=0901&item=1). Como o processo de obtenção desses arquivos foge um pouco do nosso escopo, deixamos o arquivo SINASC_RO_2019.csv` já como vai ser encontrado no DataSUS. O dicionário de dados está no arquivo `estrutura_sinasc_para_CD.pdf` (o nome do arquivo tal qual no portal do DataSUS).\n",
    "\n",
    "### Nosso objetivo\n",
    "Queremos deixar uma base organizada para podermos estudar a relação entre partos com risco para o bebê e algumas condições como tempo de parto, consultas de pré-natal etc.\n",
    "\n",
    "#### Preparação da base\n",
    "1. Carregue a base 'SINASC_RO_2019.csv'. Conte o número de registros e o número de registros não duplicados da base. Dica: você aprendeu um método que remove duplicados, encadeie este método com um outro método que conta o número de linhas. **Há linhas duplicadas?**  \n",
    "\n",
    "2. Conte o número de valores *missing* por variável.  \n",
    "\n",
    "3. Ok, no item anterior você deve ter achado pouco prático ler a informação de tantas variáveis, muitas delas nem devem ser interesantes. Então crie uma seleção dessa base somente com as colunas que interessam. São elas:\n",
    "` \n",
    "['LOCNASC', 'IDADEMAE', 'ESTCIVMAE', 'ESCMAE', 'QTDFILVIVO', \n",
    "    'GESTACAO', 'GRAVIDEZ', 'CONSULTAS', 'APGAR5'] \n",
    "`\n",
    "Refaça a contagem de valores *missings*.  \n",
    "\n",
    "4. Apgar é uma *nota* que o pediatra dá ao bebê quando nasce de acordo com algumas características associadas principalmente à respiração. Apgar 1 e Apgar 5 são as notas 1 e 5 minutos do nascimento. Apgar5 será a nossa variável de interesse principal. Então remova todos os registros com Apgar5 não preenchido. Para esta seleção, conte novamente o número de linhas e o número de *missings*.  \n",
    "\n",
    "5. observe que as variáveis `['ESTCIVMAE', 'CONSULTAS']` possuem o código `9`, que significa *ignorado*. Vamos assumir que o não preenchido é o mesmo que o código `9`.<br>\n",
    "6. Substitua os valores faltantes da quantitativa (`QTDFILVIVO`) por zero.  \n",
    "7. Das restantes, decida que valore te parece mais adequado (um 'não preenchido' ou um valor 'mais provável' como no item anterior) e preencha. Justifique. Lembre-se de que tratamento de dados é trabalho do cientista, e que estamos tomando decisões a todo o momento - não há necessariamente certo e errado aqui.  \n",
    "8. O Apgar possui uma classificação indicando se o bebê passou por asfixia:\n",
    "- Entre 8 e 10 está em uma faixa 'normal'. \n",
    "- Entre 6 e 7, significa que o recém-nascido passou por 'asfixia leve'. \n",
    "- Entre 4 e 5 significa 'asfixia moderada'.\n",
    "- Entre 0 e 3 significa 'asfixia severa'.  \n",
    "\n",
    "Crie uma categorização dessa variável com essa codificação e calcule as frequências dessa categorização.  \n",
    "<br>\n",
    "9. Renomeie as variáveis para que fiquem no *snake case*, ou seja, em letras minúsculas, com um *underscore* entre as palávras. Dica: repare que se você não quiser criar um *dataframe* novo, você vai precisar usar a opção `inplace = True`."
   ]
  },
  {
   "cell_type": "code",
   "execution_count": 1,
   "metadata": {},
   "outputs": [
    {
     "name": "stdout",
     "output_type": "stream",
     "text": [
      "(27028, 69)\n"
     ]
    },
    {
     "data": {
      "text/plain": [
       "(27028, 69)"
      ]
     },
     "execution_count": 1,
     "metadata": {},
     "output_type": "execute_result"
    }
   ],
   "source": [
    "import pandas as pd\n",
    "import requests\n",
    "\n",
    "# 1) seu código aqui\n",
    "sinasc = pd.read_csv('SINASC_RO_2019.csv')\n",
    "print(sinasc.shape)\n",
    "sinasc.drop_duplicates().shape\n",
    "# Não há duplicados"
   ]
  },
  {
   "cell_type": "code",
   "execution_count": 3,
   "metadata": {},
   "outputs": [
    {
     "name": "stdout",
     "output_type": "stream",
     "text": [
      "Número de registros: 27028\n",
      "Número de registros não duplicados: 27028\n",
      "Há linhas duplicadas? Não\n"
     ]
    }
   ],
   "source": [
    "# 2) seu código aqui\n",
    "# Contar o número de registros e o número de registros não duplicados\n",
    "num_registros = sinasc.shape[0]\n",
    "num_registros_unicos = sinasc.drop_duplicates().shape[0]\n",
    "\n",
    "print(f\"Número de registros: {num_registros}\")\n",
    "print(f\"Número de registros não duplicados: {num_registros_unicos}\")\n",
    "print(f\"Há linhas duplicadas? {'Sim' if num_registros != num_registros_unicos else 'Não'}\")\n"
   ]
  },
  {
   "cell_type": "code",
   "execution_count": 5,
   "metadata": {},
   "outputs": [
    {
     "name": "stdout",
     "output_type": "stream",
     "text": [
      "Valores missing por variável:\n",
      "ORIGEM          0\n",
      "CODESTAB      115\n",
      "CODMUNNASC      0\n",
      "LOCNASC         0\n",
      "IDADEMAE        0\n",
      "             ... \n",
      "munResUf        0\n",
      "munResLat       1\n",
      "munResLon       1\n",
      "munResAlt       1\n",
      "munResArea      1\n",
      "Length: 69, dtype: int64\n"
     ]
    }
   ],
   "source": [
    "# 3) seu código aqui\n",
    "# Contar valores missing por variável\n",
    "missing_values = sinasc.isnull().sum()\n",
    "print(\"Valores missing por variável:\")\n",
    "print(missing_values)\n"
   ]
  },
  {
   "cell_type": "code",
   "execution_count": 7,
   "metadata": {},
   "outputs": [
    {
     "name": "stdout",
     "output_type": "stream",
     "text": [
      "Valores missing nas colunas selecionadas:\n",
      "LOCNASC          0\n",
      "IDADEMAE         0\n",
      "ESTCIVMAE      317\n",
      "ESCMAE         312\n",
      "QTDFILVIVO    1573\n",
      "GESTACAO      1232\n",
      "GRAVIDEZ        79\n",
      "CONSULTAS        0\n",
      "APGAR5         103\n",
      "dtype: int64\n"
     ]
    }
   ],
   "source": [
    "# 4) seu código aqui\n",
    "# Selecionar colunas de interesse\n",
    "colunas_interesse = ['LOCNASC', 'IDADEMAE', 'ESTCIVMAE', 'ESCMAE', 'QTDFILVIVO', 'GESTACAO', 'GRAVIDEZ', 'CONSULTAS', 'APGAR5']\n",
    "sinasc_selecionado = sinasc[colunas_interesse]\n",
    "\n",
    "# Recontar valores missing\n",
    "missing_values_selecionado = sinasc_selecionado.isnull().sum()\n",
    "print(\"Valores missing nas colunas selecionadas:\")\n",
    "print(missing_values_selecionado)\n",
    "\n"
   ]
  },
  {
   "cell_type": "code",
   "execution_count": 9,
   "metadata": {},
   "outputs": [
    {
     "name": "stdout",
     "output_type": "stream",
     "text": [
      "Número de linhas após remoção de registros com APGAR5 não preenchido: 26925\n",
      "Valores missing após remoção:\n",
      "LOCNASC          0\n",
      "IDADEMAE         0\n",
      "ESTCIVMAE      315\n",
      "ESCMAE         310\n",
      "QTDFILVIVO    1566\n",
      "GESTACAO      1216\n",
      "GRAVIDEZ        76\n",
      "CONSULTAS        0\n",
      "APGAR5           0\n",
      "dtype: int64\n"
     ]
    }
   ],
   "source": [
    "# 5) seu código aqui\n",
    "# Remover registros com APGAR5 não preenchido\n",
    "sinasc_selecionado = sinasc_selecionado.dropna(subset=['APGAR5'])\n",
    "\n",
    "# Contar o número de linhas e valores missing após a remoção\n",
    "num_linhas = sinasc_selecionado.shape[0]\n",
    "missing_values_final = sinasc_selecionado.isnull().sum()\n",
    "\n",
    "print(f\"Número de linhas após remoção de registros com APGAR5 não preenchido: {num_linhas}\")\n",
    "print(\"Valores missing após remoção:\")\n",
    "print(missing_values_final)\n",
    "\n"
   ]
  },
  {
   "cell_type": "code",
   "execution_count": 13,
   "metadata": {},
   "outputs": [
    {
     "name": "stdout",
     "output_type": "stream",
     "text": [
      "Valores missing após substituição:\n",
      "LOCNASC           0\n",
      "IDADEMAE          0\n",
      "ESTCIVMAE         0\n",
      "ESCMAE          310\n",
      "QTDFILVIVO        0\n",
      "GESTACAO       1216\n",
      "GRAVIDEZ         76\n",
      "CONSULTAS         0\n",
      "APGAR5        16076\n",
      "dtype: int64\n"
     ]
    }
   ],
   "source": [
    "# Substituir código 9 e valores missing\n",
    "sinasc_selecionado = sinasc_selecionado.replace(9, pd.NA)\n",
    "\n",
    "# Substituir valores missing na coluna quantitativa 'QTDFILVIVO' por zero\n",
    "sinasc_selecionado['QTDFILVIVO'] = sinasc_selecionado['QTDFILVIVO'].fillna(0)\n",
    "\n",
    "# Para variáveis categóricas, substituir valores missing por 'Desconhecido'\n",
    "sinasc_selecionado['ESTCIVMAE'] = sinasc_selecionado['ESTCIVMAE'].fillna('Desconhecido')\n",
    "sinasc_selecionado['CONSULTAS'] = sinasc_selecionado['CONSULTAS'].fillna('Desconhecido')\n",
    "\n",
    "# Recontar valores missing após substituição\n",
    "missing_values_finais = sinasc_selecionado.isnull().sum()\n",
    "print(\"Valores missing após substituição:\")\n",
    "print(missing_values_finais)\n",
    "\n"
   ]
  },
  {
   "cell_type": "code",
   "execution_count": 15,
   "metadata": {},
   "outputs": [
    {
     "name": "stdout",
     "output_type": "stream",
     "text": [
      "Frequências das categorias de APGAR5:\n",
      "APGAR5_CATEGORIA\n",
      "Desconhecido        16076\n",
      "Normal              10387\n",
      "Asfixia leve          320\n",
      "Asfixia severa         74\n",
      "Asfixia moderada       68\n",
      "Name: count, dtype: int64\n"
     ]
    }
   ],
   "source": [
    "# 7) seu código aqui\n",
    "# Criar categorização para APGAR5\n",
    "def categorizar_apgar(apgar):\n",
    "    if pd.isna(apgar):\n",
    "        return 'Desconhecido'\n",
    "    elif 8 <= apgar <= 10:\n",
    "        return 'Normal'\n",
    "    elif 6 <= apgar <= 7:\n",
    "        return 'Asfixia leve'\n",
    "    elif 4 <= apgar <= 5:\n",
    "        return 'Asfixia moderada'\n",
    "    elif 0 <= apgar <= 3:\n",
    "        return 'Asfixia severa'\n",
    "    else:\n",
    "        return 'Desconhecido'\n",
    "\n",
    "# Aplicar a categorização\n",
    "sinasc_selecionado['APGAR5_CATEGORIA'] = sinasc_selecionado['APGAR5'].apply(categorizar_apgar)\n",
    "\n",
    "# Calcular frequências das categorias\n",
    "frequencias_categorias = sinasc_selecionado['APGAR5_CATEGORIA'].value_counts()\n",
    "print(\"Frequências das categorias de APGAR5:\")\n",
    "print(frequencias_categorias)\n"
   ]
  },
  {
   "cell_type": "code",
   "execution_count": 17,
   "metadata": {},
   "outputs": [
    {
     "name": "stdout",
     "output_type": "stream",
     "text": [
      "   locnasc  idade_mae   est_civ_mae          esc_mae  qtd_fil_vivo  \\\n",
      "0        1         19           5.0      8 a 11 anos           0.0   \n",
      "1        1         29           2.0      8 a 11 anos           1.0   \n",
      "2        1         37  Desconhecido      8 a 11 anos           2.0   \n",
      "3        1         30           5.0  12 anos ou mais           0.0   \n",
      "4        1         30           2.0      8 a 11 anos           1.0   \n",
      "\n",
      "          gestacao gravidez consultas apgar5 APGAR5_CATEGORIA  \n",
      "0  37 a 41 semanas    Única         4   10.0           Normal  \n",
      "1  37 a 41 semanas    Única         4   <NA>     Desconhecido  \n",
      "2  37 a 41 semanas    Única         4   10.0           Normal  \n",
      "3  37 a 41 semanas    Única         3   10.0           Normal  \n",
      "4  37 a 41 semanas    Única         4   10.0           Normal  \n"
     ]
    }
   ],
   "source": [
    "# 8) seu código aqui\n",
    "# Renomear variáveis para snake_case\n",
    "sinasc_selecionado.rename(columns={\n",
    "    'LOCNASC': 'locnasc',\n",
    "    'IDADEMAE': 'idade_mae',\n",
    "    'ESTCIVMAE': 'est_civ_mae',\n",
    "    'ESCMAE': 'esc_mae',\n",
    "    'QTDFILVIVO': 'qtd_fil_vivo',\n",
    "    'GESTACAO': 'gestacao',\n",
    "    'GRAVIDEZ': 'gravidez',\n",
    "    'CONSULTAS': 'consultas',\n",
    "    'APGAR5': 'apgar5'\n",
    "}, inplace=True)\n",
    "\n",
    "# Exibir as primeiras linhas para verificar as mudanças\n",
    "print(sinasc_selecionado.head())\n"
   ]
  },
  {
   "cell_type": "code",
   "execution_count": null,
   "metadata": {},
   "outputs": [],
   "source": [
    "# 9) seu código aqui\n"
   ]
  }
 ],
 "metadata": {
  "kernelspec": {
   "display_name": "Python 3 (ipykernel)",
   "language": "python",
   "name": "python3"
  },
  "language_info": {
   "codemirror_mode": {
    "name": "ipython",
    "version": 3
   },
   "file_extension": ".py",
   "mimetype": "text/x-python",
   "name": "python",
   "nbconvert_exporter": "python",
   "pygments_lexer": "ipython3",
   "version": "3.12.4"
  }
 },
 "nbformat": 4,
 "nbformat_minor": 4
}
