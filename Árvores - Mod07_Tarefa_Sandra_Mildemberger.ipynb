{
 "cells": [
  {
   "cell_type": "markdown",
   "metadata": {
    "id": "d8yCrvnM_2sd"
   },
   "source": [
    "# Módulo 07, Tarefa 01\n",
    "\n",
    "Vamos começar a mexer na nossa base de projeto? Já fizemos um exercício de montar a variável resposta, já pudemos perceber que essa atividade pode não ser trivial. Vamos agora trabalhar a base para que fique propícia ao *scikitlearn* para trabalharmos.\n",
    "\n",
    "Lembrando, a base se chama demo01.csv, e originalmente está publicada [aqui](https://www.kaggle.com/rikdifos/credit-card-approval-prediction)."
   ]
  },
  {
   "cell_type": "markdown",
   "metadata": {
    "id": "hcMBVVE8_2sg"
   },
   "source": [
    "#### 1) Carregue a base e avalie:\n",
    "\n",
    "- As variáveis\n",
    "- Tipos de dados de cada variável\n",
    "- Quantidade de missings\n",
    "- Distribuição da variável resposta (mau)"
   ]
  },
  {
   "cell_type": "code",
   "execution_count": 1,
   "metadata": {
    "id": "jfUxW_PX_2sh"
   },
   "outputs": [
    {
     "name": "stdout",
     "output_type": "stream",
     "text": [
      "  sexo posse_de_veiculo posse_de_imovel  qtd_filhos            tipo_renda  \\\n",
      "0    M                Y               Y           0               Working   \n",
      "1    F                N               Y           0  Commercial associate   \n",
      "2    F                N               Y           0  Commercial associate   \n",
      "3    M                Y               Y           0               Working   \n",
      "4    F                Y               N           0               Working   \n",
      "\n",
      "                        educacao          estado_civil    tipo_residencia  \\\n",
      "0  Secondary / secondary special               Married  House / apartment   \n",
      "1  Secondary / secondary special  Single / not married  House / apartment   \n",
      "2  Secondary / secondary special  Single / not married  House / apartment   \n",
      "3               Higher education               Married  House / apartment   \n",
      "4              Incomplete higher               Married  House / apartment   \n",
      "\n",
      "       idade  tempo_emprego  possui_celular  possui_fone_comercial  \\\n",
      "0  58.832877       3.106849               1                      0   \n",
      "1  52.356164       8.358904               1                      0   \n",
      "2  52.356164       8.358904               1                      0   \n",
      "3  46.224658       2.106849               1                      1   \n",
      "4  29.230137       3.021918               1                      0   \n",
      "\n",
      "   possui_fone  possui_email  qt_pessoas_residencia    mau  \n",
      "0            0             0                    2.0  False  \n",
      "1            1             1                    1.0  False  \n",
      "2            1             1                    1.0  False  \n",
      "3            1             1                    2.0  False  \n",
      "4            0             0                    2.0  False  \n"
     ]
    }
   ],
   "source": [
    "import pandas as pd\n",
    "\n",
    "file_path = 'demo01.csv'\n",
    "demo_data = pd.read_csv(file_path)\n",
    "\n",
    "print(demo_data.head())\n"
   ]
  },
  {
   "cell_type": "code",
   "execution_count": null,
   "metadata": {},
   "outputs": [],
   "source": []
  },
  {
   "cell_type": "markdown",
   "metadata": {
    "id": "_v0f02mE_2si"
   },
   "source": [
    "#### 2) Vamos montar um metadados\n",
    "\n",
    "1. Crie um dataframe com os nomes de cada variável e o tipo de dados de cada variável.\n",
    "2. Adicione uma coluna nesse *dataframe* chamada \"qtd_categorias\" e coloque nela o número de categorias correspondente de cada variável.\n",
    "    Dica:\n",
    "        1. inicie uma lista vazia\n",
    "        2. faça um for ao longo dos nomes das variáveis,\n",
    "        3. conte o número de categorias dessa variável\n",
    "        4. acumule essa informação de 3. na lista que você criou em 1.\n",
    "        5. No final, essa lista pode ser atribuída à nossa variável."
   ]
  },
  {
   "cell_type": "code",
   "execution_count": 7,
   "metadata": {},
   "outputs": [
    {
     "name": "stdout",
     "output_type": "stream",
     "text": [
      "                     Nome Tipo de Dados  Qtd Categorias\n",
      "0                    sexo        object             2.0\n",
      "1        posse_de_veiculo        object             2.0\n",
      "2         posse_de_imovel        object             2.0\n",
      "3              qtd_filhos         int64             NaN\n",
      "4              tipo_renda        object             5.0\n",
      "5                educacao        object             5.0\n",
      "6            estado_civil        object             5.0\n",
      "7         tipo_residencia        object             6.0\n",
      "8                   idade       float64             NaN\n",
      "9           tempo_emprego       float64             NaN\n",
      "10         possui_celular         int64             NaN\n",
      "11  possui_fone_comercial         int64             NaN\n",
      "12            possui_fone         int64             NaN\n",
      "13           possui_email         int64             NaN\n",
      "14  qt_pessoas_residencia       float64             NaN\n",
      "15                    mau          bool             NaN\n"
     ]
    }
   ],
   "source": [
    "nomes_variaveis = []\n",
    "tipos_dados = []\n",
    "qtd_categorias = []\n",
    "\n",
    "for coluna in demo_data.columns:\n",
    "    nomes_variaveis.append(coluna)  \n",
    "    tipos_dados.append(demo_data[coluna].dtype)  \n",
    "    \n",
    "    if isinstance(demo_data[coluna].dtype, pd.CategoricalDtype) or pd.api.types.is_object_dtype(demo_data[coluna]):\n",
    "        qtd_categorias.append(demo_data[coluna].nunique()) \n",
    "    else:\n",
    "        qtd_categorias.append(None) \n",
    "\n",
    "metadados = pd.DataFrame({\n",
    "    'Nome': nomes_variaveis,\n",
    "    'Tipo de Dados': tipos_dados,\n",
    "    'Qtd Categorias': qtd_categorias\n",
    "})\n",
    "\n",
    "print(metadados)\n"
   ]
  },
  {
   "cell_type": "code",
   "execution_count": null,
   "metadata": {
    "id": "gNF5BRdA_2si"
   },
   "outputs": [],
   "source": []
  },
  {
   "cell_type": "markdown",
   "metadata": {
    "id": "h0XKJFhY_2si"
   },
   "source": [
    "#### 3) Crie variáveis dummy para as variáveis necessárias (i.e. aquelas que são qualitativas e não estão armazenadas como {0, 1} ou {True, False}. Crie um *dataframe* apenas com as variáveis apropriadas para entrada no scikitlearn - elimine as variáveis tipo *str*, mantendo apenas suas versões *dummy*."
   ]
  },
  {
   "cell_type": "code",
   "execution_count": 11,
   "metadata": {
    "id": "ePbdZDOi_2sj"
   },
   "outputs": [
    {
     "name": "stdout",
     "output_type": "stream",
     "text": [
      "   qtd_filhos      idade  tempo_emprego  possui_celular  \\\n",
      "0           0  58.832877       3.106849               1   \n",
      "1           0  52.356164       8.358904               1   \n",
      "2           0  52.356164       8.358904               1   \n",
      "3           0  46.224658       2.106849               1   \n",
      "4           0  29.230137       3.021918               1   \n",
      "\n",
      "   possui_fone_comercial  possui_fone  possui_email  qt_pessoas_residencia  \\\n",
      "0                      0            0             0                    2.0   \n",
      "1                      0            1             1                    1.0   \n",
      "2                      0            1             1                    1.0   \n",
      "3                      1            1             1                    2.0   \n",
      "4                      0            0             0                    2.0   \n",
      "\n",
      "   sexo_F  sexo_M  ...  estado_civil_Married  estado_civil_Separated  \\\n",
      "0   False    True  ...                  True                   False   \n",
      "1    True   False  ...                 False                   False   \n",
      "2    True   False  ...                 False                   False   \n",
      "3   False    True  ...                  True                   False   \n",
      "4    True   False  ...                  True                   False   \n",
      "\n",
      "   estado_civil_Single / not married  estado_civil_Widow  \\\n",
      "0                              False               False   \n",
      "1                               True               False   \n",
      "2                               True               False   \n",
      "3                              False               False   \n",
      "4                              False               False   \n",
      "\n",
      "   tipo_residencia_Co-op apartment  tipo_residencia_House / apartment  \\\n",
      "0                            False                               True   \n",
      "1                            False                               True   \n",
      "2                            False                               True   \n",
      "3                            False                               True   \n",
      "4                            False                               True   \n",
      "\n",
      "   tipo_residencia_Municipal apartment  tipo_residencia_Office apartment  \\\n",
      "0                                False                             False   \n",
      "1                                False                             False   \n",
      "2                                False                             False   \n",
      "3                                False                             False   \n",
      "4                                False                             False   \n",
      "\n",
      "   tipo_residencia_Rented apartment  tipo_residencia_With parents  \n",
      "0                             False                         False  \n",
      "1                             False                         False  \n",
      "2                             False                         False  \n",
      "3                             False                         False  \n",
      "4                             False                         False  \n",
      "\n",
      "[5 rows x 35 columns]\n"
     ]
    }
   ],
   "source": [
    "variaveis_qualitativas = demo_data.select_dtypes(include=['object', 'category'])\n",
    "\n",
    "variaveis_dummies = pd.get_dummies(variaveis_qualitativas)\n",
    "\n",
    "variaveis_numericas = demo_data.select_dtypes(include=['number'])\n",
    "\n",
    "df_final = pd.concat([variaveis_numericas, variaveis_dummies], axis=1)\n",
    "\n",
    "print(df_final.head())\n"
   ]
  },
  {
   "cell_type": "markdown",
   "metadata": {
    "id": "uhaqFcPE_2sj"
   },
   "source": [
    "#### 4) Qual variável é mais poderosa?\n",
    "\n",
    "Considere as variáveis ```possui_email``` e ```posse_de_veiculo```. Faça uma tabela cruzada entre elas e responda qual delas te parece mais poderosa para prever a probabilidade de ```mau = 1```?"
   ]
  },
  {
   "cell_type": "code",
   "execution_count": 19,
   "metadata": {
    "id": "3wUAHc_-_2sj"
   },
   "outputs": [
    {
     "name": "stdout",
     "output_type": "stream",
     "text": [
      "Categorias da variável 'mau':\n",
      "mau\n",
      "0    16260\n",
      "1      390\n",
      "Name: count, dtype: int64\n"
     ]
    }
   ],
   "source": [
    "# Converter a variável 'mau' para 1 e 0\n",
    "demo_data['mau'] = demo_data['mau'].astype(int)\n",
    "\n",
    "# Converter 'possui_email' e 'posse_de_veiculo' para 1 e 0\n",
    "demo_data['possui_email'] = demo_data['possui_email'].astype(int)\n",
    "demo_data['posse_de_veiculo'] = demo_data['posse_de_veiculo'].map({'Y': 1, 'N': 0})\n",
    "\n",
    "print(\"Categorias da variável 'mau':\")\n",
    "print(demo_data['mau'].value_counts())\n"
   ]
  },
  {
   "cell_type": "code",
   "execution_count": 21,
   "metadata": {},
   "outputs": [
    {
     "name": "stdout",
     "output_type": "stream",
     "text": [
      "\n",
      "Tabela Cruzada 'possui_email':\n",
      "mau               0    1\n",
      "possui_email            \n",
      "0             14810  360\n",
      "1              1450   30\n",
      "\n",
      "Tabela Cruzada 'posse_de_veiculo':\n",
      "Empty DataFrame\n",
      "Columns: []\n",
      "Index: []\n"
     ]
    }
   ],
   "source": [
    "tabela_cruzada_email = pd.crosstab(demo_data['possui_email'], demo_data['mau'])\n",
    "tabela_cruzada_veiculo = pd.crosstab(demo_data['posse_de_veiculo'], demo_data['mau'])\n",
    "\n",
    "print(\"\\nTabela Cruzada 'possui_email':\")\n",
    "print(tabela_cruzada_email)\n",
    "\n",
    "print(\"\\nTabela Cruzada 'posse_de_veiculo':\")\n",
    "print(tabela_cruzada_veiculo)"
   ]
  },
  {
   "cell_type": "code",
   "execution_count": null,
   "metadata": {},
   "outputs": [],
   "source": [
    "proporcao_email = tabela_cruzada_email[1] / tabela_cruzada_email.sum(axis=1)\n",
    "proporcao_veiculo = tabela_cruzada_veiculo[1] / tabela_cruzada_veiculo.sum(axis=1)\n",
    "\n",
    "# Mostrar as proporções\n",
    "print(\"\\nProporções para 'possui_email':\")\n",
    "print(proporcao_email)\n",
    "\n",
    "print(\"\\nProporções para 'posse_de_veiculo':\")\n",
    "print(proporcao_veiculo)\n",
    "\n",
    "# Comparar as proporções\n",
    "print(\"\\nComparação:\")\n",
    "if proporcao_email.max() > proporcao_veiculo.max():\n",
    "    print(\"A variável 'possui_email' parece ser mais poderosa.\")\n",
    "else:\n",
    "    print(\"A variável 'posse_de_veiculo' parece ser mais poderosa.\")"
   ]
  },
  {
   "cell_type": "markdown",
   "metadata": {
    "id": "G2Issl2e_2sj"
   },
   "source": [
    "#### 5) Salve a base, pois ela será utilizada no final deste módulo."
   ]
  },
  {
   "cell_type": "code",
   "execution_count": null,
   "metadata": {
    "id": "KSEj8OL9_2sk"
   },
   "outputs": [],
   "source": []
  }
 ],
 "metadata": {
  "colab": {
   "provenance": []
  },
  "kernelspec": {
   "display_name": "Python 3 (ipykernel)",
   "language": "python",
   "name": "python3"
  },
  "language_info": {
   "codemirror_mode": {
    "name": "ipython",
    "version": 3
   },
   "file_extension": ".py",
   "mimetype": "text/x-python",
   "name": "python",
   "nbconvert_exporter": "python",
   "pygments_lexer": "ipython3",
   "version": "3.12.4"
  }
 },
 "nbformat": 4,
 "nbformat_minor": 4
}
