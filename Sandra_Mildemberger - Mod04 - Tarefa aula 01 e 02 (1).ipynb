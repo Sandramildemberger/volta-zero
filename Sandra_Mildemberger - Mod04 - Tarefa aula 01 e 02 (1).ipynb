{
 "cells": [
  {
   "cell_type": "markdown",
   "metadata": {},
   "source": [
    "# Tarefa 01\n",
    "\n",
    "- Leia os enunciados com atenção\n",
    "- Saiba que pode haver mais de uma resposta correta\n",
    "- Insira novas células de código sempre que achar necessário\n",
    "- Em caso de dúvidas, procure os tutores\n",
    "- Divirta-se :)\n",
    "\n",
    "#### 1)  crie uma série do pandas a partir de uma lista com os dados abaixo:\n",
    "\n",
    "Em um estudo sobre alteração na tempreatura global, A NASA disponibiliza dados de diferenças de de temperatura média da superfície terrestre relativos às médias de temperatura entre 1951 e 1980. Os dados originais podem ser vistos no site da NASA/GISS, e estão dispostos a cada década na tabela abaixo.\n",
    "\n",
    "|ano|anomalia termica|\n",
    "|:-:|:----:|\n",
    "| 1900 | -0.08 |\n",
    "| 1920 | -0.27 |\n",
    "| 1940 | 0.12 |\n",
    "| 1960 | -0.03 |\n",
    "| 1980 | 0.26 |\n",
    "| 2000 | 0.40 |\n",
    "| 2020 | 1.02 |\n",
    "\n",
    "Crie uma séries do Pandas a partir de uma lista com esses dados."
   ]
  },
  {
   "cell_type": "code",
   "execution_count": 12,
   "metadata": {},
   "outputs": [
    {
     "name": "stdout",
     "output_type": "stream",
     "text": [
      "1900   -0.08\n",
      "1920   -0.27\n",
      "1940    0.12\n",
      "1960   -0.03\n",
      "1980    0.26\n",
      "2000    0.40\n",
      "2020    1.02\n",
      "dtype: float64\n"
     ]
    }
   ],
   "source": [
    "import pandas as pd\n",
    "import numpy as np\n",
    "\n",
    "# Seu código aqui\n",
    "anos = [1900, 1920, 1940, 1960, 1980, 2000, 2020]\n",
    "anomalias_termicas = [-0.08, -0.27, 0.12, -0.03, 0.26, 0.40, 1.02]\n",
    "\n",
    "serie_anomalias = pd.Series(data=anomalias_termicas, index=anos)\n",
    "\n",
    "print(serie_anomalias)"
   ]
  },
  {
   "cell_type": "markdown",
   "metadata": {},
   "source": [
    "#### 2) Coloque os anos nos índices conforme a tabela."
   ]
  },
  {
   "cell_type": "code",
   "execution_count": 14,
   "metadata": {},
   "outputs": [
    {
     "name": "stdout",
     "output_type": "stream",
     "text": [
      "1900   -0.08\n",
      "1920   -0.27\n",
      "1940    0.12\n",
      "1960   -0.03\n",
      "1980    0.26\n",
      "2000    0.40\n",
      "2020    1.02\n",
      "dtype: float64\n"
     ]
    }
   ],
   "source": [
    "\n",
    "# seu código aqui\n",
    "# Dados fornecidos da tabela\n",
    "anos = [1900, 1920, 1940, 1960, 1980, 2000, 2020]\n",
    "anomalias_termicas = [-0.08, -0.27, 0.12, -0.03, 0.26, 0.40, 1.02]\n",
    "\n",
    "serie_anomalias = pd.Series(data=anomalias_termicas, index=anos)\n",
    "\n",
    "print(serie_anomalias)"
   ]
  },
  {
   "cell_type": "markdown",
   "metadata": {},
   "source": [
    "#### 3) A partir do dicionário abaixo, crie uma séries do Pandas:"
   ]
  },
  {
   "cell_type": "code",
   "execution_count": 16,
   "metadata": {},
   "outputs": [
    {
     "name": "stdout",
     "output_type": "stream",
     "text": [
      "1900   -0.08\n",
      "1920   -0.27\n",
      "1940    0.12\n",
      "1960   -0.03\n",
      "1980    0.26\n",
      "2000    0.40\n",
      "2020    1.02\n",
      "dtype: float64\n"
     ]
    }
   ],
   "source": [
    "dic_temperaturas = {1900: -.08, 1920: -.27, 1940: .12, 1960: -.03, 1980: .26, 2000: .40, 2020: 1.02}\n",
    "\n",
    "# seu código aqui\n",
    "dic_temperaturas = {\n",
    "    1900: -0.08,\n",
    "    1920: -0.27,\n",
    "    1940: 0.12,\n",
    "    1960: -0.03,\n",
    "    1980: 0.26,\n",
    "    2000: 0.40,\n",
    "    2020: 1.02\n",
    "}\n",
    "\n",
    "serie_anomalias_dic = pd.Series(dic_temperaturas)\n",
    "\n",
    "print(serie_anomalias_dic)\n"
   ]
  },
  {
   "cell_type": "markdown",
   "metadata": {},
   "source": [
    "#### 4) Transforme o ndarray abaixo em um dataframe. \n",
    "O numpy é capaz de gerar arrays n-dimensionais com números pseudo-aleatórios de acordo com uma variedade de distribuições, como no exemplo abaixo. Transforme esse nd-array em um DataFrame."
   ]
  },
  {
   "cell_type": "code",
   "execution_count": 18,
   "metadata": {},
   "outputs": [
    {
     "name": "stdout",
     "output_type": "stream",
     "text": [
      "       Coluna1     Coluna2     Coluna3\n",
      "0   100.884006  104.502740  104.088146\n",
      "1    99.884284   82.394860   81.122049\n",
      "2   106.448030  117.724822   97.586034\n",
      "3    87.842314   94.839454  120.331402\n",
      "4    98.517529   91.697447   88.856634\n",
      "5   106.050649  110.788011  114.665504\n",
      "6   107.438697   91.048480  114.216554\n",
      "7    97.926201  101.066124  111.817149\n",
      "8   106.656297  112.059464  108.370996\n",
      "9   107.562279   92.713171   99.983172\n",
      "10   96.818039  111.599115   91.398187\n",
      "11  113.081478  106.139110   85.204703\n",
      "12  106.242792  100.572324  107.017729\n",
      "13  104.499273  120.152771  101.704977\n",
      "14   80.677229   92.888267  109.861167\n",
      "15  102.873154   93.004297  105.655987\n",
      "16  115.150259   97.094330  117.543162\n",
      "17  103.770835  100.784732   97.107921\n",
      "18  102.970724   84.793570   81.559401\n",
      "19   90.233062  105.857427  104.010467\n"
     ]
    }
   ],
   "source": [
    "arr = np.random.normal(100, 10, (20,3))\n",
    "\n",
    "# seu código aqui\n",
    "# Gerando o ndarray com números pseudo-aleatórios\n",
    "arr = np.random.normal(100, 10, (20, 3))\n",
    "\n",
    "# Transformando o ndarray em um DataFrame do Pandas\n",
    "df = pd.DataFrame(arr, columns=['Coluna1', 'Coluna2', 'Coluna3'])\n",
    "\n",
    "print(df)"
   ]
  },
  {
   "cell_type": "markdown",
   "metadata": {},
   "source": [
    "#### 5) Nomeie os índices das linhas com inteiros de 1 a 20, e as colunas com os nomes \"x1\", \"x2\", e \"x3\" respectivamente."
   ]
  },
  {
   "cell_type": "code",
   "execution_count": 20,
   "metadata": {},
   "outputs": [
    {
     "name": "stdout",
     "output_type": "stream",
     "text": [
      "            x1          x2          x3\n",
      "1   100.472848  101.965643  105.736244\n",
      "2    98.729231  112.533429   91.283677\n",
      "3   103.343826  106.000462   94.078949\n",
      "4    97.137867  105.287030  109.254114\n",
      "5    88.459614  110.100782   92.880161\n",
      "6   105.622382  100.929247   99.210466\n",
      "7    89.936847   97.603183   93.757084\n",
      "8    97.317230  120.795860  107.655005\n",
      "9   118.560676   97.410418   97.462816\n",
      "10  101.639131   93.629655  106.143474\n",
      "11  106.774971  105.264536   96.228403\n",
      "12   85.661333   82.366612   88.961641\n",
      "13  108.408737  119.834720  111.093764\n",
      "14   82.483643  131.790215   95.935941\n",
      "15   95.589810  100.736416   82.565036\n",
      "16   83.499778  109.050510   79.466650\n",
      "17   94.058719   94.880235  102.085781\n",
      "18   71.310571   86.368410  101.293500\n",
      "19  104.204672   90.747499   95.880023\n",
      "20   87.815864  111.653990  108.413923\n"
     ]
    }
   ],
   "source": [
    "#seu código aqui\n",
    "# Gerando o ndarray com números pseudo-aleatórios\n",
    "arr = np.random.normal(100, 10, (20, 3))\n",
    "\n",
    "# Transformando o ndarray em um DataFrame do Pandas e nomeando os índices e colunas\n",
    "df = pd.DataFrame(arr, index=range(1, 21), columns=['x1', 'x2', 'x3'])\n",
    "\n",
    "print(df)\n"
   ]
  },
  {
   "cell_type": "markdown",
   "metadata": {},
   "source": [
    "#### 6) No DataFrame do exercício 5, crie uma nova coluna como sendo a média das três colunas, e dê a ela o nome de \"media\" (não recomendo colocar acentos em nomes de variáveis)."
   ]
  },
  {
   "cell_type": "code",
   "execution_count": 22,
   "metadata": {},
   "outputs": [
    {
     "name": "stdout",
     "output_type": "stream",
     "text": [
      "            x1          x2          x3       media\n",
      "1   111.666815  107.943534  115.684989  111.765113\n",
      "2   102.451855   99.504636   95.013461   98.989984\n",
      "3    93.096035   89.135618  114.804611   99.012088\n",
      "4   108.071219  100.998036   94.163078  101.077444\n",
      "5    97.297994   85.318013  118.024329  100.213445\n",
      "6    96.588851  104.457274   85.554081   95.533402\n",
      "7   102.393159   90.687822   98.449967   97.176983\n",
      "8   110.812158   95.766709   91.991569   99.523479\n",
      "9   102.248505   93.168661  103.745065   99.720744\n",
      "10   99.129620   91.471864   96.764926   95.788803\n",
      "11  103.339216  110.537725  111.282837  108.386593\n",
      "12  105.902965  103.526078   89.381772   99.603605\n",
      "13   87.325576   96.579712   96.330844   93.412044\n",
      "14   95.029562  101.709232   90.462231   95.733675\n",
      "15  109.798433  104.347685  106.208977  106.785032\n",
      "16  110.766119  103.974337  102.123366  105.621274\n",
      "17  110.312608  108.860066  101.541469  106.904714\n",
      "18   98.328985  119.977856   88.333180  102.213340\n",
      "19  109.222778  103.647904  102.720870  105.197184\n",
      "20  109.815613  110.116758   86.070204  102.000859\n"
     ]
    }
   ],
   "source": [
    "# seu código aqui\n",
    "arr = np.random.normal(100, 10, (20, 3))\n",
    "\n",
    "# Transformando o ndarray em um DataFrame do Pandas e nomeando os índices e colunas\n",
    "df = pd.DataFrame(arr, index=range(1, 21), columns=['x1', 'x2', 'x3'])\n",
    "\n",
    "# Criando uma nova coluna 'media' com a média das colunas 'x1', 'x2', e 'x3'\n",
    "df['media'] = df[['x1', 'x2', 'x3']].mean(axis=1)\n",
    "\n",
    "print(df)"
   ]
  },
  {
   "cell_type": "markdown",
   "metadata": {},
   "source": [
    "#### 7) No DataFrame do exercício 6, crie uma nova coluna chamada \"log_med\", contendo o logaritmo natural da média calculada no exercício 6 <br>"
   ]
  },
  {
   "cell_type": "code",
   "execution_count": 24,
   "metadata": {},
   "outputs": [
    {
     "name": "stdout",
     "output_type": "stream",
     "text": [
      "            x1          x2          x3       media   log_med\n",
      "1    91.106632  131.061813  107.655927  109.941457  4.699948\n",
      "2    97.895857   97.533306  109.845974  101.758379  4.622601\n",
      "3    95.604041   95.968873   96.224186   95.932367  4.563643\n",
      "4   103.392499   93.483636   95.449034   97.441723  4.579254\n",
      "5   114.267257  103.268516  102.332495  106.622756  4.669297\n",
      "6    91.070861   95.974668  101.401186   96.148905  4.565898\n",
      "7   100.821735  101.892471  109.613536  104.109247  4.645441\n",
      "8    89.766941   97.167894  113.907119  100.280651  4.607973\n",
      "9    82.120432   76.408944  108.272759   88.934045  4.487895\n",
      "10  104.942820  102.845664   79.945237   95.911240  4.563423\n",
      "11  107.253060  109.574055  107.304041  108.043719  4.682536\n",
      "12   94.119118  101.853688   92.255492   96.076099  4.565141\n",
      "13   97.705313   98.109507  101.052303   98.955708  4.594672\n",
      "14   82.833125  100.648764   90.982208   91.488033  4.516208\n",
      "15   97.572549  111.637462   86.948127   98.719379  4.592281\n",
      "16  103.161523  107.953384  114.756900  108.623936  4.687892\n",
      "17   94.765888   94.971921  105.581256   98.439688  4.589444\n",
      "18   93.769847  106.984031  111.944776  104.232885  4.646628\n",
      "19  105.981810   95.712440   92.001374   97.898541  4.583932\n",
      "20  134.298851  115.647476  100.037846  116.661391  4.759276\n"
     ]
    }
   ],
   "source": [
    "# seu código aqui\n",
    "\n",
    "# Gerando o ndarray com números pseudo-aleatórios\n",
    "arr = np.random.normal(100, 10, (20, 3))\n",
    "\n",
    "# Transformando o ndarray em um DataFrame do Pandas e nomeando os índices e colunas\n",
    "df = pd.DataFrame(arr, index=range(1, 21), columns=['x1', 'x2', 'x3'])\n",
    "\n",
    "# Criando uma nova coluna 'media' com a média das colunas 'x1', 'x2', e 'x3'\n",
    "df['media'] = df[['x1', 'x2', 'x3']].mean(axis=1)\n",
    "\n",
    "# Criando uma nova coluna 'log_med' com o logaritmo natural da coluna 'media'\n",
    "df['log_med'] = np.log(df['media'])\n",
    "\n",
    "print(df)"
   ]
  },
  {
   "cell_type": "code",
   "execution_count": null,
   "metadata": {},
   "outputs": [],
   "source": []
  }
 ],
 "metadata": {
  "kernelspec": {
   "display_name": "Python 3 (ipykernel)",
   "language": "python",
   "name": "python3"
  },
  "language_info": {
   "codemirror_mode": {
    "name": "ipython",
    "version": 3
   },
   "file_extension": ".py",
   "mimetype": "text/x-python",
   "name": "python",
   "nbconvert_exporter": "python",
   "pygments_lexer": "ipython3",
   "version": "3.12.4"
  }
 },
 "nbformat": 4,
 "nbformat_minor": 4
}
