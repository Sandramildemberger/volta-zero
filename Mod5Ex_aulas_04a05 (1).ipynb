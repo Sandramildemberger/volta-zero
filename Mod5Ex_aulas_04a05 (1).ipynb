{
 "cells": [
  {
   "cell_type": "markdown",
   "metadata": {},
   "source": [
    "# Tarefa 02 Módulo 05\n",
    "\n",
    "O nosso projeto desta sequência de módulos do curso será um aprofundamento da demonstração sobre classificação de risco de crédito que vimos lá no comecinho. Pois recebemos uma base já montada pra nós. Tenha certeza de que ela passou por um longo processamento até ficar daquele jeito. Neste exercício vamos exercitar o que aprendemos nas ultimas aulas e montar a variável resposta da base do nosso projeto.\n",
    "\n",
    "#### Marcação de bom e mau\n",
    "O objetivo da modelagem é classificar o risco de inadimplência, ou como se diz no meio, o risco de *default*. Podemos fazer longas discussões sobre o conceito de *default* com base em estudos e exigências regulatórias, para efeitos deste estudo, um cliente em *default* é aquele que está em 60 dias de atraso ou mais. Então classificaremos os clientes como 'bons' e 'maus' assim:\n",
    "- **Maus** pagadores: são aqueles que entraram em 'default' (atraso 60 dias ou mais) nos 24 meses seguintes à aquisição do cartão de crédito. \n",
    "- **Bons** pagadores: são considerados todos os demais.\n",
    "- **Excluídos**: Clientes que não adquiriram um cartão de crédito (seja por recusa, seja por desistência) não possuem informações de pagamento, portanto não se pode identificar se são bons ou maus. Há uma longa discussão e literatura sobre *inferência de rejeitados* que está fora do escopo deste exercício.\n",
    "\n",
    "#### Bases disponíveis\n",
    "Temos duas bases importantes aqui: uma de propostas, com diversas informações dos vários solicitantes de cartão de crédito, e uma base de pagamentos. A base de pagamentos será utilizada para identificar a ocorrência de *default*. A base de propostas tem diversas informações coletadas no momento da solicitação do crédito (isto é importante: qualquer informação posterior a essa data é impossível de ser coletada na aplicação do modelo e não pode ser utilizada).\n",
    "\n",
    "As variáveis delas são:\n",
    "\n",
    "Base de propostas - application_records.csv\n",
    "\n",
    "| Nome da Variável         | Description                                         | Tipo  |\n",
    "| ------------------------ |:---------------------------------------------------:| -----:|\n",
    "| ID| identificador do cliente (chave) |inteiro|\n",
    "| CODE_GENDER| M = 'Masculino'; F = 'Feminino' |M/F|\n",
    "| FLAG_OWN_CAR| Y = 'possui'; N = 'não possui' |Y/N|\n",
    "| FLAG_OWN_REALTY| Y = 'possui'; N = 'não possui' |Y/N|\n",
    "| CNT_CHILDREN| Quantidade de filhos |inteiro|\n",
    "| AMT_INCOME_TOTAL| Annual income |inteiro|\n",
    "| NAME_INCOME_TYPE|Tipo de renda (ex: assaliariado, autônomo etc) | texto |\n",
    "| NAME_EDUCATION_TYPE| Nível de educação (ex: secundário, superior etc) |texto|\n",
    "| NAME_FAMILY_STATUS | Estado civil (ex: solteiro, casado etc)| texto |\n",
    "| NAME_HOUSING_TYPE | tipo de residência (ex: casa/apartamento, com os pais etc) | texto |\n",
    "| DAYS_BIRTH | Count backwards from current day (0), -1 means yesterday |inteiro|\n",
    "| DAYS_EMPLOYED | Count backwards from current day (0), -1 means yesterday |inteiro|\n",
    "| FLAG_MOBIL | Indica se possui celular (1 = sim, 0 = não) |binária|\n",
    "| FLAG_WORK_PHONE | Indica se possui telefone comercial (1 = sim, 0 = não) |binária|\n",
    "| FLAG_PHONE | Indica se possui telefone (1 = sim, 0 = não) |binária|\n",
    "| FLAG_EMAIL | Indica se possui e-mail (1 = sim, 0 = não) |binária|\n",
    "| OCCUPATION_TYPE | Occupation\t |Qualitativa|\n",
    "| CNT_FAM_MEMBERS | quantidade de pessoas na residência |inteiro|\n",
    "\n",
    "Base de pagamentos - pagamentos_largo.csv  \n",
    "\n",
    "| Nome da Variável         | Description                                         | Tipo  |\n",
    "| ------------------------ |:---------------------------------------------------:| -----:|\n",
    "| ID| identificador do cliente (chave) |inteiro|\n",
    "| mes_00 a mes_24| faixa de atraso mês a mês do cliente <br>0: 1-29 days past due &nbsp;&nbsp;&nbsp;&nbsp; 1: 30-59 days past due <br />2: 60-89 days overdue &nbsp;&nbsp;&nbsp;&nbsp; 3: 90-119 days overdue <br /> 4: 120-149 days overdue &nbsp;&nbsp;&nbsp;&nbsp; 5: more than 150 days <br />C: paid off that month &nbsp;&nbsp;&nbsp;&nbsp; X: No loan for the month |Qualitativa|\n",
    "\n",
    "#### Construindo a variável resposta\n",
    "A base de pagamentos está em um formato de 'base larga'. Essa base possui informações de pagamentos do cliente mês a mês a partir do mês de aquisição do crédito (mês 0) até o vigésimo quarto mês após a aquisição do crédito (mês 24). Utilizaremos essa base para determinar se um proponente é considerado 'bom pagador' ou caso apresente atraso representativo, será considerado 'mau pagador'.\n",
    "\n",
    "#### Base larga vs base longa\n",
    "A base ser larga significa que há uma linha para cada cliente, e que as informações estarão nas colunas, em contraste com a 'base longa', em que haveria uma linha para cada combinação cliente/mês, uma coluna indicando o cliente, outra indicando o mês, e apenas uma coluna com a informação do atraso.\n",
    "\n",
    "#### Tarefa 1) Marcar *default* no mês\n",
    "Faça uma indicadora de se o cliente está em *default* em cada uma das marcações (mes_00 a mes_24). Dica: você pode utilizar o método ```.isin()``` do Pandas. Consulte a [documentação](https://pandas.pydata.org/pandas-docs/stable/reference/api/pandas.DataFrame.isin.html) caso necessário.\n",
    "\n",
    "#### Tarefa 2) 'bons' e 'maus' ao longo de todos os 24 meses de desempenho\n",
    "Marque para cada cliente se ele teve pelo menos um episódio de *default* entre o mês 0 e o mês 24. Dica: o método ```sum()``` pode ajudar. Caso precise, consulte a [documentação](https://pandas.pydata.org/docs/reference/api/pandas.DataFrame.sum.html) e procure pelo argumento ```axis```, você viu outros métodos que possuem esse argumento também. Tendo o número de meses em default de cada cliente, basta marcar ```True``` para todos aqueles que possuem pelo menos 1 mês em *default* e ```False``` para os demais.\n",
    "\n",
    "#### Tarefa 3) Marcando proponentes expostos ao risco de crédito\n",
    "Marcando proponentes que se tornaram tomadores: lembre-se de que clientes que não adquiriram o cartão devem ser desconsiderados. A base de pagamentos possui apenas clientes que adquiriram cartão de crédito, então você pode selecionar somente os clientes da base de propostas que se encontram na base de pagamentos.\n",
    "\n",
    "#### Tarefa 4) Consolidando as informações\n",
    "Faça uma junção das informações da base de propostas com a variável de *default* que você acabou de construir. Talvez você consiga realizar a tarefa 3 e tarefa 4 em uma única linha de código ;)\n",
    "\n",
    "#### Tarefa 5) Verificando\n",
    "Faça uma contagem dos valores do *default* que você construiu. "
   ]
  },
  {
   "cell_type": "markdown",
   "metadata": {},
   "source": [
    "# Tarefa 1: Marcar default no mês"
   ]
  },
  {
   "cell_type": "code",
   "execution_count": 40,
   "metadata": {},
   "outputs": [],
   "source": [
    "import pandas as pd\n",
    "\n",
    "# Carregar as bases de dados\n",
    "propostas = pd.read_csv('application_record.csv')\n",
    "pg = pd.read_csv('pagamentos_largo.csv')\n"
   ]
  },
  {
   "cell_type": "code",
   "execution_count": 41,
   "metadata": {},
   "outputs": [
    {
     "name": "stdout",
     "output_type": "stream",
     "text": [
      "        ID mes_0 mes_1 mes_10 mes_11 mes_12 mes_13 mes_14 mes_15 mes_16  ...  \\\n",
      "0  5001718     0     0      0      0      0      0      0      0    NaN  ...   \n",
      "1  5001719     0     0      C      C      C      C      C      C      C  ...   \n",
      "2  5001720     0     0      0      0      0      0      0      0      0  ...   \n",
      "3  5001723     0     0    NaN    NaN    NaN    NaN    NaN    NaN    NaN  ...   \n",
      "4  5001726     0     0      C      C      C      C      C      C      C  ...   \n",
      "\n",
      "  mes_23 mes_24 mes_3 mes_4 mes_5 mes_6 mes_7 mes_8 mes_9 default  \n",
      "0      0    NaN     0     0     0     0   NaN     0   NaN   False  \n",
      "1      C      C     C     C     C     C     C     C     C   False  \n",
      "2      0      0     0     0     0     0     0     0     0   False  \n",
      "3    NaN    NaN     0     0     0     0     0   NaN   NaN   False  \n",
      "4      C      C     0     0     0     C     C     C     C   False  \n",
      "\n",
      "[5 rows x 27 columns]\n"
     ]
    }
   ],
   "source": [
    "# Lista de colunas para os meses\n",
    "month_columns = [f'mes_{i}' for i in range(25)]\n",
    "\n",
    "# Criar uma função para marcar se o cliente está em default\n",
    "def mark_default(row):\n",
    "    return (row[month_columns] == '2').any() or (row[month_columns] == '3').any()\n",
    "\n",
    "# Aplicar a função para cada linha\n",
    "pg['default'] = pg.apply(mark_default, axis=1)\n",
    "\n",
    "print(pg.head())"
   ]
  },
  {
   "cell_type": "markdown",
   "metadata": {},
   "source": [
    "# Tarefa 2: 'Bons' e 'maus' ao longo de todos os 24 meses"
   ]
  },
  {
   "cell_type": "code",
   "execution_count": 43,
   "metadata": {},
   "outputs": [
    {
     "name": "stdout",
     "output_type": "stream",
     "text": [
      "        ID mes_0 mes_1 mes_10 mes_11 mes_12 mes_13 mes_14 mes_15 mes_16  ...  \\\n",
      "0  5001718     0     0      0      0      0      0      0      0    NaN  ...   \n",
      "1  5001719     0     0      C      C      C      C      C      C      C  ...   \n",
      "2  5001720     0     0      0      0      0      0      0      0      0  ...   \n",
      "3  5001723     0     0    NaN    NaN    NaN    NaN    NaN    NaN    NaN  ...   \n",
      "4  5001726     0     0      C      C      C      C      C      C      C  ...   \n",
      "\n",
      "  mes_23 mes_24 mes_3 mes_4 mes_5 mes_6 mes_7 mes_8 mes_9 default  \n",
      "0      0    NaN     0     0     0     0   NaN     0   NaN   False  \n",
      "1      C      C     C     C     C     C     C     C     C   False  \n",
      "2      0      0     0     0     0     0     0     0     0   False  \n",
      "3    NaN    NaN     0     0     0     0     0   NaN   NaN   False  \n",
      "4      C      C     0     0     0     C     C     C     C   False  \n",
      "\n",
      "[5 rows x 27 columns]\n"
     ]
    }
   ],
   "source": [
    "# Verificar se o cliente teve pelo menos um mês em default\n",
    "pg['default'] = pg[month_columns].apply(lambda x: '2' in x.values or '3' in x.values, axis=1)\n",
    "\n",
    "# Verificar o resultado\n",
    "print(pg.head())\n"
   ]
  },
  {
   "cell_type": "markdown",
   "metadata": {},
   "source": [
    "# Tarefa 3: Marcando proponentes expostos ao risco de crédito"
   ]
  },
  {
   "cell_type": "code",
   "execution_count": 46,
   "metadata": {},
   "outputs": [
    {
     "name": "stdout",
     "output_type": "stream",
     "text": [
      "         ID CODE_GENDER FLAG_OWN_CAR FLAG_OWN_REALTY  CNT_CHILDREN  \\\n",
      "2   5008806           M            Y               Y             0   \n",
      "5   5008810           F            N               Y             0   \n",
      "6   5008811           F            N               Y             0   \n",
      "11  5112956           M            Y               Y             0   \n",
      "19  5008825           F            Y               N             0   \n",
      "\n",
      "    AMT_INCOME_TOTAL      NAME_INCOME_TYPE            NAME_EDUCATION_TYPE  \\\n",
      "2           112500.0               Working  Secondary / secondary special   \n",
      "5           270000.0  Commercial associate  Secondary / secondary special   \n",
      "6           270000.0  Commercial associate  Secondary / secondary special   \n",
      "11          270000.0               Working               Higher education   \n",
      "19          130500.0               Working              Incomplete higher   \n",
      "\n",
      "      NAME_FAMILY_STATUS  NAME_HOUSING_TYPE  DAYS_BIRTH  DAYS_EMPLOYED  \\\n",
      "2                Married  House / apartment      -21474          -1134   \n",
      "5   Single / not married  House / apartment      -19110          -3051   \n",
      "6   Single / not married  House / apartment      -19110          -3051   \n",
      "11               Married  House / apartment      -16872           -769   \n",
      "19               Married  House / apartment      -10669          -1103   \n",
      "\n",
      "    FLAG_MOBIL  FLAG_WORK_PHONE  FLAG_PHONE  FLAG_EMAIL OCCUPATION_TYPE  \\\n",
      "2            1                0           0           0  Security staff   \n",
      "5            1                0           1           1     Sales staff   \n",
      "6            1                0           1           1     Sales staff   \n",
      "11           1                1           1           1     Accountants   \n",
      "19           1                0           0           0     Accountants   \n",
      "\n",
      "    CNT_FAM_MEMBERS  \n",
      "2               2.0  \n",
      "5               1.0  \n",
      "6               1.0  \n",
      "11              2.0  \n",
      "19              2.0  \n"
     ]
    }
   ],
   "source": [
    "# Filtrar a base de propostas para clientes que estão na base de pagamentos\n",
    "proponentes_expostos = propostas[propostas['ID'].isin(pg['ID'])]\n",
    "\n",
    "# Verificar o resultado\n",
    "print(proponentes_expostos.head())\n"
   ]
  },
  {
   "cell_type": "markdown",
   "metadata": {},
   "source": [
    "# Tarefa 4: Consolidando as informações"
   ]
  },
  {
   "cell_type": "code",
   "execution_count": 48,
   "metadata": {},
   "outputs": [
    {
     "name": "stdout",
     "output_type": "stream",
     "text": [
      "        ID CODE_GENDER FLAG_OWN_CAR FLAG_OWN_REALTY  CNT_CHILDREN  \\\n",
      "0  5008806           M            Y               Y             0   \n",
      "1  5008810           F            N               Y             0   \n",
      "2  5008811           F            N               Y             0   \n",
      "3  5112956           M            Y               Y             0   \n",
      "4  5008825           F            Y               N             0   \n",
      "\n",
      "   AMT_INCOME_TOTAL      NAME_INCOME_TYPE            NAME_EDUCATION_TYPE  \\\n",
      "0          112500.0               Working  Secondary / secondary special   \n",
      "1          270000.0  Commercial associate  Secondary / secondary special   \n",
      "2          270000.0  Commercial associate  Secondary / secondary special   \n",
      "3          270000.0               Working               Higher education   \n",
      "4          130500.0               Working              Incomplete higher   \n",
      "\n",
      "     NAME_FAMILY_STATUS  NAME_HOUSING_TYPE  DAYS_BIRTH  DAYS_EMPLOYED  \\\n",
      "0               Married  House / apartment      -21474          -1134   \n",
      "1  Single / not married  House / apartment      -19110          -3051   \n",
      "2  Single / not married  House / apartment      -19110          -3051   \n",
      "3               Married  House / apartment      -16872           -769   \n",
      "4               Married  House / apartment      -10669          -1103   \n",
      "\n",
      "   FLAG_MOBIL  FLAG_WORK_PHONE  FLAG_PHONE  FLAG_EMAIL OCCUPATION_TYPE  \\\n",
      "0           1                0           0           0  Security staff   \n",
      "1           1                0           1           1     Sales staff   \n",
      "2           1                0           1           1     Sales staff   \n",
      "3           1                1           1           1     Accountants   \n",
      "4           1                0           0           0     Accountants   \n",
      "\n",
      "   CNT_FAM_MEMBERS  default  \n",
      "0              2.0    False  \n",
      "1              1.0    False  \n",
      "2              1.0    False  \n",
      "3              2.0    False  \n",
      "4              2.0    False  \n"
     ]
    }
   ],
   "source": [
    "# Merge das bases de propostas e pagamentos\n",
    "consolidado = pd.merge(propostas, pg[['ID', 'default']], on='ID', how='inner')\n",
    "\n",
    "# Verificar o resultado\n",
    "print(consolidado.head())\n"
   ]
  },
  {
   "cell_type": "markdown",
   "metadata": {},
   "source": [
    "# Tarefa 5: Verificando"
   ]
  },
  {
   "cell_type": "code",
   "execution_count": 50,
   "metadata": {},
   "outputs": [
    {
     "name": "stdout",
     "output_type": "stream",
     "text": [
      "default\n",
      "False    16280\n",
      "True       370\n",
      "Name: count, dtype: int64\n"
     ]
    }
   ],
   "source": [
    "# Contagem dos valores de default\n",
    "contagem_default = consolidado['default'].value_counts()\n",
    "\n",
    "# Verificar o resultado\n",
    "print(contagem_default)"
   ]
  },
  {
   "cell_type": "code",
   "execution_count": null,
   "metadata": {},
   "outputs": [],
   "source": []
  }
 ],
 "metadata": {
  "kernelspec": {
   "display_name": "Python 3 (ipykernel)",
   "language": "python",
   "name": "python3"
  },
  "language_info": {
   "codemirror_mode": {
    "name": "ipython",
    "version": 3
   },
   "file_extension": ".py",
   "mimetype": "text/x-python",
   "name": "python",
   "nbconvert_exporter": "python",
   "pygments_lexer": "ipython3",
   "version": "3.12.4"
  }
 },
 "nbformat": 4,
 "nbformat_minor": 4
}
